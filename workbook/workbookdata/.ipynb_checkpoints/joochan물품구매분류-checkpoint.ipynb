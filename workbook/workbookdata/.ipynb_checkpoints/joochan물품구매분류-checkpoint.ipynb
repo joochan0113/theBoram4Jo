{
 "cells": [
  {
   "cell_type": "code",
   "execution_count": 1,
   "id": "18654fe5-8054-4763-83e6-0bcc38c7e501",
   "metadata": {},
   "outputs": [],
   "source": [
    "import pandas as pd\n",
    "import numpy as np\n",
    "import os\n",
    "import matplotlib.pyplot as plt\n",
    "import seaborn as sns\n",
    "from wordcloud import WordCloud\n",
    "from konlpy.tag import Okt, Kkma, Komoran\n",
    "from collections import Counter\n",
    "import pickle"
   ]
  },
  {
   "cell_type": "code",
   "execution_count": 2,
   "id": "64d656c3-0ded-4ffc-8652-03771a988902",
   "metadata": {},
   "outputs": [],
   "source": [
    "path = 'workbookdata/입찰결과물품_df.csv'\n",
    "입찰결과물품df = pd.read_csv(path, encoding='cp949')\n",
    "결과_입찰공고명 = 입찰결과물품df.입찰공고명"
   ]
  },
  {
   "cell_type": "code",
   "execution_count": 3,
   "id": "397bd68b-09f3-4936-babb-d5a279696d9f",
   "metadata": {},
   "outputs": [],
   "source": [
    "plt.rcParams['axes.unicode_minus'] = False\n",
    "plt.rcParams['font.family'] = 'Malgun Gothic'\n",
    "fontpath = 'C:/Windows/Fonts/malgun.ttf'"
   ]
  },
  {
   "cell_type": "code",
   "execution_count": 7,
   "id": "f91808c1-515d-4c05-8175-b36d9f79ee0c",
   "metadata": {},
   "outputs": [],
   "source": [
    "tag_list = ['Noun','Verb']\n",
    "def tokenized(text_title, tag_list=['Noun']):\n",
    "    okt = Okt()\n",
    "    # 품사태깅 : 정규화, 어간추출 적용\n",
    "    token_tags = [okt.pos(text, norm=True, stem=True) for text in text_title]\n",
    "    \n",
    "    # 지정한 품사의 토큰만 추출 & 토큰길이 제한\n",
    "    token_list = []\n",
    "    for token_tag in token_tags:\n",
    "        result = []\n",
    "        for token, tag in token_tag:\n",
    "            if (len(token)>1) and (tag in tag_list):\n",
    "                result.append(token)\n",
    "        token_list.append(result)\n",
    "    return token_list\n",
    "\n",
    "def vocab_count_df(token_list):\n",
    "    tokens = np.hstack(token_list)\n",
    "    count = Counter(tokens)\n",
    "    cnt_df = pd.DataFrame(pd.Series(count), columns=['Freq'])\n",
    "    return cnt_df.sort_values(by='Freq', ascending=False)\n",
    "\n",
    "def word_counts(df, colname):\n",
    "    text_list = list(df[colname])\n",
    "    token_list = tokenized(text_list)\n",
    "    with open(f'workbookdata/{colname}_tokenlist.p','wb') as f:\n",
    "        pickle.dump(token_list, f)\n",
    "    return token_list, vocab_count_df(token_list)\n",
    "    "
   ]
  },
  {
   "cell_type": "code",
   "execution_count": null,
   "id": "5d2bcd48-3983-4e7b-81b5-04b6b42a1438",
   "metadata": {},
   "outputs": [],
   "source": [
    "입찰공고token, df = word_counts(입찰결과물품df, '입찰공고명')\n",
    "print(입찰공고token)\n",
    "df"
   ]
  },
  {
   "cell_type": "code",
   "execution_count": 5,
   "id": "74128742-53ff-4e2b-8148-6a5f087abae5",
   "metadata": {},
   "outputs": [
    {
     "data": {
      "text/html": [
       "<div>\n",
       "<style scoped>\n",
       "    .dataframe tbody tr th:only-of-type {\n",
       "        vertical-align: middle;\n",
       "    }\n",
       "\n",
       "    .dataframe tbody tr th {\n",
       "        vertical-align: top;\n",
       "    }\n",
       "\n",
       "    .dataframe thead th {\n",
       "        text-align: right;\n",
       "    }\n",
       "</style>\n",
       "<table border=\"1\" class=\"dataframe\">\n",
       "  <thead>\n",
       "    <tr style=\"text-align: right;\">\n",
       "      <th></th>\n",
       "      <th>Freq</th>\n",
       "    </tr>\n",
       "  </thead>\n",
       "  <tbody>\n",
       "    <tr>\n",
       "      <th>도시락</th>\n",
       "      <td>98</td>\n",
       "    </tr>\n",
       "    <tr>\n",
       "      <th>LPG</th>\n",
       "      <td>85</td>\n",
       "    </tr>\n",
       "    <tr>\n",
       "      <th>재고번호미입력품목</th>\n",
       "      <td>68</td>\n",
       "    </tr>\n",
       "    <tr>\n",
       "      <th>식자재</th>\n",
       "      <td>40</td>\n",
       "    </tr>\n",
       "    <tr>\n",
       "      <th>생수</th>\n",
       "      <td>40</td>\n",
       "    </tr>\n",
       "    <tr>\n",
       "      <th>...</th>\n",
       "      <td>...</td>\n",
       "    </tr>\n",
       "    <tr>\n",
       "      <th>심해잠수체계(PTC  Wet Bell) 유지보수 정비</th>\n",
       "      <td>1</td>\n",
       "    </tr>\n",
       "    <tr>\n",
       "      <th>24-B-대형 에어컨 등 5품목 구매 납품 및 설치</th>\n",
       "      <td>1</td>\n",
       "    </tr>\n",
       "    <tr>\n",
       "      <th>(246361-D) 소형 탑승식 청소차 구매</th>\n",
       "      <td>1</td>\n",
       "    </tr>\n",
       "    <tr>\n",
       "      <th>(246343-D) VR HMD 구매</th>\n",
       "      <td>1</td>\n",
       "    </tr>\n",
       "    <tr>\n",
       "      <th>(246388-E) 육군 상장용지 제조</th>\n",
       "      <td>1</td>\n",
       "    </tr>\n",
       "  </tbody>\n",
       "</table>\n",
       "<p>44888 rows × 1 columns</p>\n",
       "</div>"
      ],
      "text/plain": [
       "                               Freq\n",
       "도시락                              98\n",
       "LPG                              85\n",
       "재고번호미입력품목                        68\n",
       "식자재                              40\n",
       "생수                               40\n",
       "...                             ...\n",
       "심해잠수체계(PTC  Wet Bell) 유지보수 정비     1\n",
       "24-B-대형 에어컨 등 5품목 구매 납품 및 설치      1\n",
       "(246361-D) 소형 탑승식 청소차 구매          1\n",
       "(246343-D) VR HMD 구매              1\n",
       "(246388-E) 육군 상장용지 제조             1\n",
       "\n",
       "[44888 rows x 1 columns]"
      ]
     },
     "execution_count": 5,
     "metadata": {},
     "output_type": "execute_result"
    }
   ],
   "source": [
    "df = vocab_count_df(결과_입찰공고명)\n",
    "df"
   ]
  },
  {
   "cell_type": "code",
   "execution_count": null,
   "id": "33eb4d3e-8960-41e0-9c93-76913a395060",
   "metadata": {},
   "outputs": [],
   "source": []
  }
 ],
 "metadata": {
  "kernelspec": {
   "display_name": "Python [conda env:base] *",
   "language": "python",
   "name": "conda-base-py"
  },
  "language_info": {
   "codemirror_mode": {
    "name": "ipython",
    "version": 3
   },
   "file_extension": ".py",
   "mimetype": "text/x-python",
   "name": "python",
   "nbconvert_exporter": "python",
   "pygments_lexer": "ipython3",
   "version": "3.13.5"
  }
 },
 "nbformat": 4,
 "nbformat_minor": 5
}
