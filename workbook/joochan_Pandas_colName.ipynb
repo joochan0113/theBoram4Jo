{
 "cells": [
  {
   "cell_type": "code",
   "execution_count": 1,
   "id": "9ff2bb34-2216-4bdf-8287-0d7e4ebc9947",
   "metadata": {},
   "outputs": [],
   "source": [
    "import pandas as pd\n",
    "import numpy as np\n",
    "import os"
   ]
  },
  {
   "cell_type": "code",
   "execution_count": 2,
   "id": "68686518-834e-435d-b02d-086388361d58",
   "metadata": {},
   "outputs": [
    {
     "data": {
      "text/plain": [
       "'C:\\\\workspaces\\\\02_Crawling_TeamProject\\\\theBoram4Jo\\\\workbook'"
      ]
     },
     "execution_count": 2,
     "metadata": {},
     "output_type": "execute_result"
    }
   ],
   "source": [
    "path = os.getcwd()\n",
    "pathF = 'C:\\\\workspaces\\\\02_Crawling_TeamProject\\\\theBoram4Jo\\\\data'\n",
    "path"
   ]
  },
  {
   "cell_type": "code",
   "execution_count": 28,
   "id": "218529d7-15b7-4eec-b683-0962d2590621",
   "metadata": {},
   "outputs": [
    {
     "name": "stdout",
     "output_type": "stream",
     "text": [
      "계약정보_df 로드 완료 (shape: (62751, 29))\n",
      "입찰참여업체_df 로드 완료 (shape: (176021, 3))\n",
      "입찰결과_df 로드 완료 (shape: (74678, 27))\n",
      "입찰공고_df 로드 완료 (shape: (112236, 47))\n"
     ]
    }
   ],
   "source": [
    "folder = '../data/'  # 상대 경로 유지\n",
    "files = [f for f in os.listdir(folder) if f.lower().endswith(\".csv\")]\n",
    "files.sort()\n",
    "fn_lst = ['계약정보', '입찰참여업체', '입찰결과', '입찰공고']\n",
    "assert len(files) == len(fn_lst)\n",
    "for i in range(len(files)):\n",
    "    path = os.path.join(folder, files[i])    \n",
    "    enc = \"utf-8-sig\" if \"계약정보\" in files[i] else \"cp949\"\n",
    "    \n",
    "    try:\n",
    "        df = pd.read_csv(path, encoding=enc, low_memory=False)\n",
    "    except UnicodeDecodeError:\n",
    "        enc = \"cp949\" if enc == \"utf-8-sig\" else \"utf-8-sig\"\n",
    "        df = pd.read_csv(path, encoding=enc, low_memory=False)\n",
    "\n",
    "    var_name = f\"{fn_lst[i]}_df\"\n",
    "    globals()[var_name] = df\n",
    "    globals()[f\"{var_name}_colName\"] = df.columns\n",
    "    print(f\"{var_name} 로드 완료 (shape: {df.shape})\")"
   ]
  },
  {
   "cell_type": "code",
   "execution_count": 29,
   "id": "311ab056-7628-4543-8817-0411f62d0724",
   "metadata": {},
   "outputs": [
    {
     "data": {
      "text/plain": [
       "Index(['계약금액', '계약기간 (시작)', '계약기간 (마감)', '계약기관구분명', '계약기관담당부서명', '계약기관담당자명',\n",
       "       '계약기관명', '계약명', '계약번호', '계약유형', '계약차수', '계약체결방법명', '계약체결일자', '계약체결형태명',\n",
       "       '공동계약여부', '국내업체여부', '대표업체대표자명', '대표업체명', '대표업체사업자등록번호', '대표업체주소',\n",
       "       '물가변동계약금액조정방법', '수요기관구분명', '수요기관담당부서명', '수요기관담당자명', '수요기관명', '수의계약사유',\n",
       "       '업무구분명', '예정가격', '총계약금액'],\n",
       "      dtype='object')"
      ]
     },
     "execution_count": 29,
     "metadata": {},
     "output_type": "execute_result"
    }
   ],
   "source": [
    "계약정보_df_colName"
   ]
  },
  {
   "cell_type": "code",
   "execution_count": 23,
   "id": "06d7227a-5596-4bc7-9af1-4334307f108c",
   "metadata": {},
   "outputs": [
    {
     "data": {
      "text/plain": [
       "Index(['순번', '업체명', '대표자'], dtype='object')"
      ]
     },
     "execution_count": 23,
     "metadata": {},
     "output_type": "execute_result"
    }
   ],
   "source": [
    "입찰참여업체_df.columns"
   ]
  },
  {
   "cell_type": "code",
   "execution_count": 35,
   "id": "979083d5-f32e-44df-b222-fdf72df295a4",
   "metadata": {},
   "outputs": [],
   "source": [
    "colNames = []\n",
    "colNames.extend(입찰참여업체_df_colName)"
   ]
  },
  {
   "cell_type": "code",
   "execution_count": 36,
   "id": "6042a82b-6fa5-4053-9ebe-e284c7e4e96b",
   "metadata": {},
   "outputs": [],
   "source": [
    "colNames.extend(계약정보_df_colName)"
   ]
  },
  {
   "cell_type": "code",
   "execution_count": 37,
   "id": "beabfcfb-a83f-46c1-972a-0de6d78880bb",
   "metadata": {},
   "outputs": [
    {
     "data": {
      "text/plain": [
       "['순번',\n",
       " '업체명',\n",
       " '대표자',\n",
       " '계약금액',\n",
       " '계약기간 (시작)',\n",
       " '계약기간 (마감)',\n",
       " '계약기관구분명',\n",
       " '계약기관담당부서명',\n",
       " '계약기관담당자명',\n",
       " '계약기관명',\n",
       " '계약명',\n",
       " '계약번호',\n",
       " '계약유형',\n",
       " '계약차수',\n",
       " '계약체결방법명',\n",
       " '계약체결일자',\n",
       " '계약체결형태명',\n",
       " '공동계약여부',\n",
       " '국내업체여부',\n",
       " '대표업체대표자명',\n",
       " '대표업체명',\n",
       " '대표업체사업자등록번호',\n",
       " '대표업체주소',\n",
       " '물가변동계약금액조정방법',\n",
       " '수요기관구분명',\n",
       " '수요기관담당부서명',\n",
       " '수요기관담당자명',\n",
       " '수요기관명',\n",
       " '수의계약사유',\n",
       " '업무구분명',\n",
       " '예정가격',\n",
       " '총계약금액',\n",
       " '입찰공고번호',\n",
       " '입찰공고차수',\n",
       " '입찰공고명',\n",
       " '업무구분명',\n",
       " '계약체결형태명',\n",
       " '계약체결방법명',\n",
       " '낙찰자결정방법명',\n",
       " '적격심사여부',\n",
       " '공고기관명',\n",
       " '공고기관코드',\n",
       " '수요기관명',\n",
       " '수요기관코드',\n",
       " '낙찰하한율',\n",
       " '예정가격',\n",
       " '기초금액',\n",
       " '추정가격',\n",
       " '개찰일자',\n",
       " '개찰시각',\n",
       " '개찰결과구분명',\n",
       " '최종낙찰금액',\n",
       " '최종낙찰율',\n",
       " '최종낙찰일자',\n",
       " '최종낙찰업체명',\n",
       " '최종낙찰업체대표자명',\n",
       " '최종낙찰업체담당자명',\n",
       " '최종낙찰업체사업자등록번호',\n",
       " '최종낙찰업체주소',\n",
       " '입찰공고번호',\n",
       " '입찰공고차수',\n",
       " '참조공고번호',\n",
       " '참조공고차수',\n",
       " '나라장터공고여부',\n",
       " '입찰공고명',\n",
       " '입찰공고상태명',\n",
       " '입찰공고일자',\n",
       " '업무구분명',\n",
       " '공동계약여부',\n",
       " '공동수급방식명',\n",
       " '전자입찰여부',\n",
       " '계약체결형태명',\n",
       " '계약체결방법명',\n",
       " '낙찰자결정방법명',\n",
       " '공고기관명',\n",
       " '공고기관코드',\n",
       " '공고기관담당자부서명',\n",
       " '공고기관담당자명',\n",
       " '수요기관명',\n",
       " '수요기관코드',\n",
       " '수요기관담당자부서명',\n",
       " '수요기관담당자명',\n",
       " '설명회실시여부',\n",
       " '설명회실시일자',\n",
       " '설명회실시시각',\n",
       " '설명회실시장소',\n",
       " '입찰참가자격등록마감일자',\n",
       " '입찰참가자격등록마감시각',\n",
       " '입찰마감일자',\n",
       " '입찰마감시각',\n",
       " '개찰일자',\n",
       " '개찰시각',\n",
       " '개찰장소',\n",
       " '예산금액',\n",
       " '배정예산금액(설계금액)',\n",
       " '지역제한여부',\n",
       " '참가가능지역명',\n",
       " '공종및면허제한그룹1',\n",
       " '공종및면허제한그룹2',\n",
       " '공종및면허제한그룹3',\n",
       " '공종및면허제한그룹4',\n",
       " '공종및면허제한그룹5',\n",
       " '공종및면허제한그룹6',\n",
       " '공종및면허제한그룹7',\n",
       " '공종및면허제한그룹8',\n",
       " '입찰공고URL']"
      ]
     },
     "execution_count": 37,
     "metadata": {},
     "output_type": "execute_result"
    }
   ],
   "source": [
    "colNames.extend(입찰결과_df_colName)\n",
    "colNames.extend(입찰공고_df_colName)\n",
    "colNames"
   ]
  },
  {
   "cell_type": "code",
   "execution_count": 38,
   "id": "c9f5ed19-adfd-4725-8d37-981d1cd094da",
   "metadata": {},
   "outputs": [],
   "source": [
    "colDf = pd.DataFrame(colNames)"
   ]
  },
  {
   "cell_type": "code",
   "execution_count": 39,
   "id": "f0d3388c-f99a-4e3f-9838-5009e3dfee18",
   "metadata": {},
   "outputs": [
    {
     "data": {
      "text/html": [
       "<div>\n",
       "<style scoped>\n",
       "    .dataframe tbody tr th:only-of-type {\n",
       "        vertical-align: middle;\n",
       "    }\n",
       "\n",
       "    .dataframe tbody tr th {\n",
       "        vertical-align: top;\n",
       "    }\n",
       "\n",
       "    .dataframe thead th {\n",
       "        text-align: right;\n",
       "    }\n",
       "</style>\n",
       "<table border=\"1\" class=\"dataframe\">\n",
       "  <thead>\n",
       "    <tr style=\"text-align: right;\">\n",
       "      <th></th>\n",
       "      <th>0</th>\n",
       "    </tr>\n",
       "  </thead>\n",
       "  <tbody>\n",
       "    <tr>\n",
       "      <th>0</th>\n",
       "      <td>순번</td>\n",
       "    </tr>\n",
       "    <tr>\n",
       "      <th>1</th>\n",
       "      <td>업체명</td>\n",
       "    </tr>\n",
       "    <tr>\n",
       "      <th>2</th>\n",
       "      <td>대표자</td>\n",
       "    </tr>\n",
       "    <tr>\n",
       "      <th>3</th>\n",
       "      <td>계약금액</td>\n",
       "    </tr>\n",
       "    <tr>\n",
       "      <th>4</th>\n",
       "      <td>계약기간 (시작)</td>\n",
       "    </tr>\n",
       "    <tr>\n",
       "      <th>...</th>\n",
       "      <td>...</td>\n",
       "    </tr>\n",
       "    <tr>\n",
       "      <th>101</th>\n",
       "      <td>공종및면허제한그룹5</td>\n",
       "    </tr>\n",
       "    <tr>\n",
       "      <th>102</th>\n",
       "      <td>공종및면허제한그룹6</td>\n",
       "    </tr>\n",
       "    <tr>\n",
       "      <th>103</th>\n",
       "      <td>공종및면허제한그룹7</td>\n",
       "    </tr>\n",
       "    <tr>\n",
       "      <th>104</th>\n",
       "      <td>공종및면허제한그룹8</td>\n",
       "    </tr>\n",
       "    <tr>\n",
       "      <th>105</th>\n",
       "      <td>입찰공고URL</td>\n",
       "    </tr>\n",
       "  </tbody>\n",
       "</table>\n",
       "<p>106 rows × 1 columns</p>\n",
       "</div>"
      ],
      "text/plain": [
       "              0\n",
       "0            순번\n",
       "1           업체명\n",
       "2           대표자\n",
       "3          계약금액\n",
       "4     계약기간 (시작)\n",
       "..          ...\n",
       "101  공종및면허제한그룹5\n",
       "102  공종및면허제한그룹6\n",
       "103  공종및면허제한그룹7\n",
       "104  공종및면허제한그룹8\n",
       "105     입찰공고URL\n",
       "\n",
       "[106 rows x 1 columns]"
      ]
     },
     "execution_count": 39,
     "metadata": {},
     "output_type": "execute_result"
    }
   ],
   "source": [
    "colDf"
   ]
  },
  {
   "cell_type": "code",
   "execution_count": 40,
   "id": "d487d3f8-f556-411d-9a56-2a87c1e69715",
   "metadata": {},
   "outputs": [
    {
     "name": "stdout",
     "output_type": "stream",
     "text": [
      "<class 'pandas.core.frame.DataFrame'>\n",
      "RangeIndex: 106 entries, 0 to 105\n",
      "Data columns (total 1 columns):\n",
      " #   Column  Non-Null Count  Dtype \n",
      "---  ------  --------------  ----- \n",
      " 0   0       106 non-null    object\n",
      "dtypes: object(1)\n",
      "memory usage: 980.0+ bytes\n"
     ]
    }
   ],
   "source": [
    "colDf.info()"
   ]
  },
  {
   "cell_type": "code",
   "execution_count": null,
   "id": "9d19dc6c-d799-49b2-9610-50729f9e3982",
   "metadata": {},
   "outputs": [],
   "source": []
  }
 ],
 "metadata": {
  "kernelspec": {
   "display_name": "Python [conda env:base] *",
   "language": "python",
   "name": "conda-base-py"
  },
  "language_info": {
   "codemirror_mode": {
    "name": "ipython",
    "version": 3
   },
   "file_extension": ".py",
   "mimetype": "text/x-python",
   "name": "python",
   "nbconvert_exporter": "python",
   "pygments_lexer": "ipython3",
   "version": "3.13.5"
  }
 },
 "nbformat": 4,
 "nbformat_minor": 5
}
