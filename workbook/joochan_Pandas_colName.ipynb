{
 "cells": [
  {
   "cell_type": "code",
   "execution_count": 1,
   "id": "9ff2bb34-2216-4bdf-8287-0d7e4ebc9947",
   "metadata": {},
   "outputs": [],
   "source": [
    "import pandas as pd\n",
    "import numpy as np\n",
    "import os"
   ]
  },
  {
   "cell_type": "code",
   "execution_count": 2,
   "id": "68686518-834e-435d-b02d-086388361d58",
   "metadata": {},
   "outputs": [
    {
     "data": {
      "text/plain": [
       "'C:\\\\workspaces\\\\02_Crawling_TeamProject\\\\theBoram4Jo\\\\workbook'"
      ]
     },
     "execution_count": 2,
     "metadata": {},
     "output_type": "execute_result"
    }
   ],
   "source": [
    "path = os.getcwd()\n",
    "pathF = 'C:\\\\workspaces\\\\02_Crawling_TeamProject\\\\theBoram4Jo\\\\data'\n",
    "path"
   ]
  },
  {
   "cell_type": "code",
   "execution_count": 24,
   "id": "82ed75de-b579-4355-b76d-2442dc401f26",
   "metadata": {},
   "outputs": [
    {
     "name": "stdout",
     "output_type": "stream",
     "text": [
      "계약정보_df shape (62751, 29)\n",
      "입찰참여업체_df shape (176021, 3)\n",
      "입찰결과_df shape (74678, 27)\n",
      "입찰공고_df shape (112236, 47)\n"
     ]
    },
    {
     "name": "stderr",
     "output_type": "stream",
     "text": [
      "C:\\Users\\jooch\\AppData\\Local\\Temp\\ipykernel_4848\\1028770853.py:15: DtypeWarning: Columns (38,39,40,41,42,43,44,45) have mixed types. Specify dtype option on import or set low_memory=False.\n",
      "  df = pd.read_csv(path, encoding=enc)\n"
     ]
    }
   ],
   "source": [
    "folder = r\"C:/workspaces/02_Crawling_TeamProject/theBoram4Jo/data/\"\n",
    "files = [f for f in os.listdir(folder) if f.lower().endswith(\".csv\")]\n",
    "files.sort()\n",
    "\n",
    "names = ['계약정보','입찰참여업체','입찰결과','입찰공고']\n",
    "assert len(files) == len(names)\n",
    "\n",
    "for i in range(len(files)):\n",
    "    path = os.path.join(folder, files[i])\n",
    "    enc_order = [\"utf-8-sig\", \"cp949\"] if names[i] == \"계약정보\" else [\"cp949\", \"utf-8-sig\"]\n",
    "\n",
    "    df = None\n",
    "    for enc in enc_order:\n",
    "        try:\n",
    "            df = pd.read_csv(path, encoding=enc)\n",
    "            break\n",
    "        except Exception:\n",
    "            continue\n",
    "    var = f\"{names[i]}_df\"\n",
    "    globals()[var] = df\n",
    "    print(var, \"shape\", df.shape)"
   ]
  },
  {
   "cell_type": "code",
   "execution_count": 23,
   "id": "06d7227a-5596-4bc7-9af1-4334307f108c",
   "metadata": {},
   "outputs": [
    {
     "data": {
      "text/plain": [
       "Index(['순번', '업체명', '대표자'], dtype='object')"
      ]
     },
     "execution_count": 23,
     "metadata": {},
     "output_type": "execute_result"
    }
   ],
   "source": [
    "입찰참여업체_df.columns"
   ]
  },
  {
   "cell_type": "code",
   "execution_count": 13,
   "id": "3f029aae-e5f3-4c4a-914f-77f614bd7def",
   "metadata": {},
   "outputs": [
    {
     "name": "stderr",
     "output_type": "stream",
     "text": [
      "C:\\Users\\jooch\\AppData\\Local\\Temp\\ipykernel_4848\\76561083.py:25: DtypeWarning: Columns (38,39,40,41,42,43,44,45) have mixed types. Specify dtype option on import or set low_memory=False.\n",
      "  df = pd.read_csv(path, encoding=chosen)\n"
     ]
    }
   ],
   "source": [
    "folder = r\"C:/workspaces/02_Crawling_TeamProject/theBoram4Jo/data/\"\n",
    "files = [f for f in os.listdir(folder) if f.lower().endswith(\".csv\")]\n",
    "files.sort()\n",
    "\n",
    "enc_candidates = [\"cp949\", \"utf-8-sig\"]\n",
    "\n",
    "made = {}\n",
    "failed = []\n",
    "\n",
    "for i, fname in enumerate(files):\n",
    "    path = os.path.join(folder, fname)\n",
    "\n",
    "    chosen = None\n",
    "    # 1단계 인코딩 탐색은 헤더만 읽어서 가볍게 검사\n",
    "    for enc in enc_candidates:\n",
    "        try:\n",
    "            pd.read_csv(path, nrows=0, encoding=enc)\n",
    "            chosen = enc\n",
    "            break\n",
    "        except Exception:\n",
    "            continue\n",
    "\n",
    "    # 2단계 선택한 인코딩으로 전체 로드\n",
    "    try:\n",
    "        df = pd.read_csv(path, encoding=chosen)\n",
    "        var_name = f\"i{i}_df\"          # 예 i0_df, i1_df 형태\n",
    "        globals()[var_name] = df       # 동적 변수 생성\n",
    "        made[i] = {\"file\": fname, \"var\": var_name, \"encoding\": chosen, \"shape\": df.shape}\n",
    "    except Exception as e:\n",
    "        failed.append((i, fname))\n",
    "        print(f\"읽기 실패 idx {i} 파일 {fname} 오류 {e}\")\n"
   ]
  },
  {
   "cell_type": "code",
   "execution_count": 4,
   "id": "1f683b5d-ded2-4778-a0d2-9566309ef5d2",
   "metadata": {},
   "outputs": [
    {
     "ename": "NameError",
     "evalue": "name '계약정보_df' is not defined",
     "output_type": "error",
     "traceback": [
      "\u001b[1;31m---------------------------------------------------------------------------\u001b[0m",
      "\u001b[1;31mNameError\u001b[0m                                 Traceback (most recent call last)",
      "Cell \u001b[1;32mIn[4], line 1\u001b[0m\n\u001b[1;32m----> 1\u001b[0m 계약정보_df\u001b[38;5;241m.\u001b[39mcolumn\n",
      "\u001b[1;31mNameError\u001b[0m: name '계약정보_df' is not defined"
     ]
    }
   ],
   "source": [
    "계약정보_df.column"
   ]
  },
  {
   "cell_type": "code",
   "execution_count": null,
   "id": "979083d5-f32e-44df-b222-fdf72df295a4",
   "metadata": {},
   "outputs": [],
   "source": []
  }
 ],
 "metadata": {
  "kernelspec": {
   "display_name": "Python [conda env:base] *",
   "language": "python",
   "name": "conda-base-py"
  },
  "language_info": {
   "codemirror_mode": {
    "name": "ipython",
    "version": 3
   },
   "file_extension": ".py",
   "mimetype": "text/x-python",
   "name": "python",
   "nbconvert_exporter": "python",
   "pygments_lexer": "ipython3",
   "version": "3.13.5"
  }
 },
 "nbformat": 4,
 "nbformat_minor": 5
}
