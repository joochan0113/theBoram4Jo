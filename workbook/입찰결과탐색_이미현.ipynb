{
 "cells": [
  {
   "cell_type": "code",
   "execution_count": 1,
   "id": "232df839-4a0c-44ff-82dd-3b41996d3f7b",
   "metadata": {},
   "outputs": [],
   "source": [
    "import pandas as pd"
   ]
  },
  {
   "cell_type": "code",
   "execution_count": 4,
   "id": "96c9576f-fd94-4214-865e-03c8dc008260",
   "metadata": {},
   "outputs": [
    {
     "name": "stdout",
     "output_type": "stream",
     "text": [
      "C:\\crawling_project\n"
     ]
    }
   ],
   "source": [
    "import os\n",
    "\n",
    "print(os.getcwd())"
   ]
  },
  {
   "cell_type": "code",
   "execution_count": 38,
   "id": "b9ab5c60-eaf5-42f9-83ad-c374d4dc6c09",
   "metadata": {},
   "outputs": [],
   "source": [
    "result = pd.read_csv('data/result.csv', encoding='cp949') \n",
    "\n",
    "# result.head(2)"
   ]
  },
  {
   "cell_type": "code",
   "execution_count": 12,
   "id": "a0a50fb8-951d-4fb4-9f64-9823e66fb46c",
   "metadata": {},
   "outputs": [
    {
     "name": "stdout",
     "output_type": "stream",
     "text": [
      "<class 'pandas.core.frame.DataFrame'>\n",
      "RangeIndex: 74678 entries, 0 to 74677\n",
      "Data columns (total 27 columns):\n",
      " #   Column         Non-Null Count  Dtype  \n",
      "---  ------         --------------  -----  \n",
      " 0   입찰공고번호         74678 non-null  object \n",
      " 1   입찰공고차수         74678 non-null  int64  \n",
      " 2   입찰공고명          74678 non-null  object \n",
      " 3   업무구분명          74678 non-null  object \n",
      " 4   계약체결형태명        74678 non-null  object \n",
      " 5   계약체결방법명        74678 non-null  object \n",
      " 6   낙찰자결정방법명       74678 non-null  object \n",
      " 7   적격심사여부         74678 non-null  object \n",
      " 8   공고기관명          74678 non-null  object \n",
      " 9   공고기관코드         74678 non-null  object \n",
      " 10  수요기관명          74678 non-null  object \n",
      " 11  수요기관코드         74678 non-null  object \n",
      " 12  낙찰하한율          63901 non-null  float64\n",
      " 13  예정가격           51840 non-null  float64\n",
      " 14  기초금액           73064 non-null  float64\n",
      " 15  추정가격           74678 non-null  float64\n",
      " 16  개찰일자           74678 non-null  object \n",
      " 17  개찰시각           74677 non-null  object \n",
      " 18  개찰결과구분명        74678 non-null  object \n",
      " 19  최종낙찰금액         51994 non-null  float64\n",
      " 20  최종낙찰율          51840 non-null  float64\n",
      " 21  최종낙찰일자         51994 non-null  object \n",
      " 22  최종낙찰업체명        51994 non-null  object \n",
      " 23  최종낙찰업체대표자명     51994 non-null  object \n",
      " 24  최종낙찰업체담당자명     51654 non-null  object \n",
      " 25  최종낙찰업체사업자등록번호  51994 non-null  object \n",
      " 26  최종낙찰업체주소       51994 non-null  object \n",
      "dtypes: float64(6), int64(1), object(20)\n",
      "memory usage: 15.4+ MB\n"
     ]
    }
   ],
   "source": [
    "result.info()"
   ]
  },
  {
   "cell_type": "code",
   "execution_count": 15,
   "id": "0290f2e7-5ddc-4ec0-84b7-316b993960f8",
   "metadata": {},
   "outputs": [
    {
     "data": {
      "text/plain": [
       "13757"
      ]
     },
     "execution_count": 15,
     "metadata": {},
     "output_type": "execute_result"
    }
   ],
   "source": [
    "len(result.최종낙찰업체명.unique())"
   ]
  },
  {
   "cell_type": "markdown",
   "id": "d11398b5-00c9-4487-bdbd-36e1fc0eee37",
   "metadata": {},
   "source": [
    "##### 약 오만건의 결과중 최종낙찰업체 종류개수 13757 -> 한 업체 여러번 낙찰 가능성"
   ]
  },
  {
   "cell_type": "markdown",
   "id": "d5e0411e-4da1-48dd-b1a3-33fd3f2fb277",
   "metadata": {},
   "source": [
    "#### 연결시 새 컬럼 생성(연도+공고번호)"
   ]
  },
  {
   "cell_type": "code",
   "execution_count": 52,
   "id": "1e7a7962-e26b-4817-8696-ee1f5c1dd488",
   "metadata": {},
   "outputs": [],
   "source": [
    "연도공고번호 = []\n",
    "\n",
    "for a, i in zip(result.개찰일자, result.입찰공고번호):\n",
    "    b = a.split('-')\n",
    "    c = b[0]\n",
    "    연도공고번호.append(c + i)\n",
    "\n",
    "result['연도공고번호'] = 연도공고번호\n",
    "\n"
   ]
  },
  {
   "cell_type": "code",
   "execution_count": 53,
   "id": "7c2306a0-a103-4b75-81f7-196122c4e39a",
   "metadata": {},
   "outputs": [],
   "source": [
    "# result.head()"
   ]
  },
  {
   "cell_type": "code",
   "execution_count": null,
   "id": "0402527b-4301-4274-b654-9750ff49abff",
   "metadata": {},
   "outputs": [],
   "source": []
  },
  {
   "cell_type": "code",
   "execution_count": 54,
   "id": "f044df60-61cb-44d1-b7f7-95cf4689090f",
   "metadata": {},
   "outputs": [
    {
     "data": {
      "text/html": [
       "<div>\n",
       "<style scoped>\n",
       "    .dataframe tbody tr th:only-of-type {\n",
       "        vertical-align: middle;\n",
       "    }\n",
       "\n",
       "    .dataframe tbody tr th {\n",
       "        vertical-align: top;\n",
       "    }\n",
       "\n",
       "    .dataframe thead th {\n",
       "        text-align: right;\n",
       "    }\n",
       "</style>\n",
       "<table border=\"1\" class=\"dataframe\">\n",
       "  <thead>\n",
       "    <tr style=\"text-align: right;\">\n",
       "      <th></th>\n",
       "      <th>연도공고번호</th>\n",
       "      <th>입찰공고명</th>\n",
       "      <th>업무구분명</th>\n",
       "      <th>낙찰자결정방법명</th>\n",
       "      <th>계약체결방법명</th>\n",
       "      <th>최종낙찰업체명</th>\n",
       "      <th>개찰일자</th>\n",
       "      <th>최종낙찰일자</th>\n",
       "      <th>예정가격</th>\n",
       "      <th>최종낙찰금액</th>\n",
       "    </tr>\n",
       "  </thead>\n",
       "  <tbody>\n",
       "    <tr>\n",
       "      <th>0</th>\n",
       "      <td>2016MHD0102</td>\n",
       "      <td>상륙기동헬기 조종시뮬레이터 선행연구</td>\n",
       "      <td>용역</td>\n",
       "      <td>협상</td>\n",
       "      <td>협상에의한계약(서류)</td>\n",
       "      <td>재단법인 한국군사문제연구원</td>\n",
       "      <td>2016-01-11</td>\n",
       "      <td>2016-02-11</td>\n",
       "      <td>30000000.0</td>\n",
       "      <td>28000000.0</td>\n",
       "    </tr>\n",
       "    <tr>\n",
       "      <th>1</th>\n",
       "      <td>2016MHD0130</td>\n",
       "      <td>특수작전용 유탄발사기사업 선행연구</td>\n",
       "      <td>용역</td>\n",
       "      <td>협상</td>\n",
       "      <td>협상에의한계약(서류)</td>\n",
       "      <td>사단법인 안보경영연구원</td>\n",
       "      <td>2016-01-05</td>\n",
       "      <td>2016-01-06</td>\n",
       "      <td>74092000.0</td>\n",
       "      <td>71000000.0</td>\n",
       "    </tr>\n",
       "    <tr>\n",
       "      <th>2</th>\n",
       "      <td>2016UMM0003</td>\n",
       "      <td>00부대 물절약 투자대행사업(WASCO  15-A047)</td>\n",
       "      <td>용역</td>\n",
       "      <td>협상</td>\n",
       "      <td>협상에의한계약(전자)</td>\n",
       "      <td>주식회사 도화엔지니어링</td>\n",
       "      <td>2016-01-29</td>\n",
       "      <td>2016-01-29</td>\n",
       "      <td>667000000.0</td>\n",
       "      <td>535467000.0</td>\n",
       "    </tr>\n",
       "    <tr>\n",
       "      <th>3</th>\n",
       "      <td>2016UMM0004</td>\n",
       "      <td>00부대 물절약 투자대행사업(WASCO  15-A048)</td>\n",
       "      <td>물품</td>\n",
       "      <td>협상</td>\n",
       "      <td>협상에의한계약(전자)</td>\n",
       "      <td>NaN</td>\n",
       "      <td>2016-02-03</td>\n",
       "      <td>NaN</td>\n",
       "      <td>NaN</td>\n",
       "      <td>NaN</td>\n",
       "    </tr>\n",
       "    <tr>\n",
       "      <th>4</th>\n",
       "      <td>2016UMM0860</td>\n",
       "      <td>16년 음향 영상장비 유지보수 용역</td>\n",
       "      <td>용역</td>\n",
       "      <td>적격심사제</td>\n",
       "      <td>일반경쟁</td>\n",
       "      <td>주식회사 케이원</td>\n",
       "      <td>2016-01-05</td>\n",
       "      <td>2016-01-05</td>\n",
       "      <td>456378904.0</td>\n",
       "      <td>396923000.0</td>\n",
       "    </tr>\n",
       "  </tbody>\n",
       "</table>\n",
       "</div>"
      ],
      "text/plain": [
       "        연도공고번호                            입찰공고명 업무구분명 낙찰자결정방법명      계약체결방법명  \\\n",
       "0  2016MHD0102              상륙기동헬기 조종시뮬레이터 선행연구    용역       협상  협상에의한계약(서류)   \n",
       "1  2016MHD0130               특수작전용 유탄발사기사업 선행연구    용역       협상  협상에의한계약(서류)   \n",
       "2  2016UMM0003  00부대 물절약 투자대행사업(WASCO  15-A047)    용역       협상  협상에의한계약(전자)   \n",
       "3  2016UMM0004  00부대 물절약 투자대행사업(WASCO  15-A048)    물품       협상  협상에의한계약(전자)   \n",
       "4  2016UMM0860              16년 음향 영상장비 유지보수 용역    용역    적격심사제         일반경쟁   \n",
       "\n",
       "          최종낙찰업체명        개찰일자      최종낙찰일자         예정가격       최종낙찰금액  \n",
       "0  재단법인 한국군사문제연구원  2016-01-11  2016-02-11   30000000.0   28000000.0  \n",
       "1    사단법인 안보경영연구원  2016-01-05  2016-01-06   74092000.0   71000000.0  \n",
       "2    주식회사 도화엔지니어링  2016-01-29  2016-01-29  667000000.0  535467000.0  \n",
       "3             NaN  2016-02-03         NaN          NaN          NaN  \n",
       "4        주식회사 케이원  2016-01-05  2016-01-05  456378904.0  396923000.0  "
      ]
     },
     "execution_count": 54,
     "metadata": {},
     "output_type": "execute_result"
    }
   ],
   "source": [
    "result_job = result[['연도공고번호','입찰공고명', '업무구분명', '낙찰자결정방법명', '계약체결방법명', '최종낙찰업체명','개찰일자','최종낙찰일자', '예정가격', '최종낙찰금액']].copy()\n",
    "result_job.head()"
   ]
  },
  {
   "cell_type": "markdown",
   "id": "87c6caa7-bfa2-4ff4-a19a-426cb09c71b3",
   "metadata": {},
   "source": [
    "#### 예정가격과 최종낙찰금"
   ]
  },
  {
   "cell_type": "code",
   "execution_count": 55,
   "id": "9203eff8-10bd-421c-948c-ad77dcd182e3",
   "metadata": {},
   "outputs": [],
   "source": [
    "result_job['낙찰금차'] = result_job['최종낙찰금액'] - result_job['예정가격']\n",
    "result_job['하락비율'] = result_job['최종낙찰금액'] / result_job['예정가격']\n"
   ]
  },
  {
   "cell_type": "code",
   "execution_count": 56,
   "id": "61bc6e32-f6ca-44d1-9374-13c8dc1c995e",
   "metadata": {},
   "outputs": [
    {
     "data": {
      "text/html": [
       "<div>\n",
       "<style scoped>\n",
       "    .dataframe tbody tr th:only-of-type {\n",
       "        vertical-align: middle;\n",
       "    }\n",
       "\n",
       "    .dataframe tbody tr th {\n",
       "        vertical-align: top;\n",
       "    }\n",
       "\n",
       "    .dataframe thead th {\n",
       "        text-align: right;\n",
       "    }\n",
       "</style>\n",
       "<table border=\"1\" class=\"dataframe\">\n",
       "  <thead>\n",
       "    <tr style=\"text-align: right;\">\n",
       "      <th></th>\n",
       "      <th>연도공고번호</th>\n",
       "      <th>입찰공고명</th>\n",
       "      <th>업무구분명</th>\n",
       "      <th>낙찰자결정방법명</th>\n",
       "      <th>계약체결방법명</th>\n",
       "      <th>최종낙찰업체명</th>\n",
       "      <th>개찰일자</th>\n",
       "      <th>최종낙찰일자</th>\n",
       "      <th>예정가격</th>\n",
       "      <th>최종낙찰금액</th>\n",
       "      <th>낙찰금차</th>\n",
       "      <th>하락비율</th>\n",
       "    </tr>\n",
       "  </thead>\n",
       "  <tbody>\n",
       "    <tr>\n",
       "      <th>0</th>\n",
       "      <td>2016MHD0102</td>\n",
       "      <td>상륙기동헬기 조종시뮬레이터 선행연구</td>\n",
       "      <td>용역</td>\n",
       "      <td>협상</td>\n",
       "      <td>협상에의한계약(서류)</td>\n",
       "      <td>재단법인 한국군사문제연구원</td>\n",
       "      <td>2016-01-11</td>\n",
       "      <td>2016-02-11</td>\n",
       "      <td>30000000.0</td>\n",
       "      <td>28000000.0</td>\n",
       "      <td>-2000000.0</td>\n",
       "      <td>0.933333</td>\n",
       "    </tr>\n",
       "    <tr>\n",
       "      <th>1</th>\n",
       "      <td>2016MHD0130</td>\n",
       "      <td>특수작전용 유탄발사기사업 선행연구</td>\n",
       "      <td>용역</td>\n",
       "      <td>협상</td>\n",
       "      <td>협상에의한계약(서류)</td>\n",
       "      <td>사단법인 안보경영연구원</td>\n",
       "      <td>2016-01-05</td>\n",
       "      <td>2016-01-06</td>\n",
       "      <td>74092000.0</td>\n",
       "      <td>71000000.0</td>\n",
       "      <td>-3092000.0</td>\n",
       "      <td>0.958268</td>\n",
       "    </tr>\n",
       "    <tr>\n",
       "      <th>2</th>\n",
       "      <td>2016UMM0003</td>\n",
       "      <td>00부대 물절약 투자대행사업(WASCO  15-A047)</td>\n",
       "      <td>용역</td>\n",
       "      <td>협상</td>\n",
       "      <td>협상에의한계약(전자)</td>\n",
       "      <td>주식회사 도화엔지니어링</td>\n",
       "      <td>2016-01-29</td>\n",
       "      <td>2016-01-29</td>\n",
       "      <td>667000000.0</td>\n",
       "      <td>535467000.0</td>\n",
       "      <td>-131533000.0</td>\n",
       "      <td>0.802799</td>\n",
       "    </tr>\n",
       "    <tr>\n",
       "      <th>3</th>\n",
       "      <td>2016UMM0004</td>\n",
       "      <td>00부대 물절약 투자대행사업(WASCO  15-A048)</td>\n",
       "      <td>물품</td>\n",
       "      <td>협상</td>\n",
       "      <td>협상에의한계약(전자)</td>\n",
       "      <td>NaN</td>\n",
       "      <td>2016-02-03</td>\n",
       "      <td>NaN</td>\n",
       "      <td>NaN</td>\n",
       "      <td>NaN</td>\n",
       "      <td>NaN</td>\n",
       "      <td>NaN</td>\n",
       "    </tr>\n",
       "    <tr>\n",
       "      <th>4</th>\n",
       "      <td>2016UMM0860</td>\n",
       "      <td>16년 음향 영상장비 유지보수 용역</td>\n",
       "      <td>용역</td>\n",
       "      <td>적격심사제</td>\n",
       "      <td>일반경쟁</td>\n",
       "      <td>주식회사 케이원</td>\n",
       "      <td>2016-01-05</td>\n",
       "      <td>2016-01-05</td>\n",
       "      <td>456378904.0</td>\n",
       "      <td>396923000.0</td>\n",
       "      <td>-59455904.0</td>\n",
       "      <td>0.869722</td>\n",
       "    </tr>\n",
       "  </tbody>\n",
       "</table>\n",
       "</div>"
      ],
      "text/plain": [
       "        연도공고번호                            입찰공고명 업무구분명 낙찰자결정방법명      계약체결방법명  \\\n",
       "0  2016MHD0102              상륙기동헬기 조종시뮬레이터 선행연구    용역       협상  협상에의한계약(서류)   \n",
       "1  2016MHD0130               특수작전용 유탄발사기사업 선행연구    용역       협상  협상에의한계약(서류)   \n",
       "2  2016UMM0003  00부대 물절약 투자대행사업(WASCO  15-A047)    용역       협상  협상에의한계약(전자)   \n",
       "3  2016UMM0004  00부대 물절약 투자대행사업(WASCO  15-A048)    물품       협상  협상에의한계약(전자)   \n",
       "4  2016UMM0860              16년 음향 영상장비 유지보수 용역    용역    적격심사제         일반경쟁   \n",
       "\n",
       "          최종낙찰업체명        개찰일자      최종낙찰일자         예정가격       최종낙찰금액  \\\n",
       "0  재단법인 한국군사문제연구원  2016-01-11  2016-02-11   30000000.0   28000000.0   \n",
       "1    사단법인 안보경영연구원  2016-01-05  2016-01-06   74092000.0   71000000.0   \n",
       "2    주식회사 도화엔지니어링  2016-01-29  2016-01-29  667000000.0  535467000.0   \n",
       "3             NaN  2016-02-03         NaN          NaN          NaN   \n",
       "4        주식회사 케이원  2016-01-05  2016-01-05  456378904.0  396923000.0   \n",
       "\n",
       "          낙찰금차      하락비율  \n",
       "0   -2000000.0  0.933333  \n",
       "1   -3092000.0  0.958268  \n",
       "2 -131533000.0  0.802799  \n",
       "3          NaN       NaN  \n",
       "4  -59455904.0  0.869722  "
      ]
     },
     "execution_count": 56,
     "metadata": {},
     "output_type": "execute_result"
    }
   ],
   "source": [
    "result_job.head()"
   ]
  },
  {
   "cell_type": "code",
   "execution_count": 51,
   "id": "cc0b2aa4-5743-4b43-80a1-31c453e19f80",
   "metadata": {},
   "outputs": [
    {
     "name": "stdout",
     "output_type": "stream",
     "text": [
      "29\n",
      "51539\n"
     ]
    }
   ],
   "source": [
    "up = (result_job['낙찰금차'] > 0).sum() # 예정가보다 최종낙찰금이 상승한경우(아주소수)\n",
    "down = (result_job['낙찰금차'] < 0).sum() # 예정가보다 최종낙찰금이 하락한경우\n",
    "print(up)\n",
    "print(down)"
   ]
  },
  {
   "cell_type": "markdown",
   "id": "e8b3df26-1321-43f9-86d5-286cd88fcdcb",
   "metadata": {},
   "source": [
    "#### 물품 vs 용역 비교"
   ]
  },
  {
   "cell_type": "code",
   "execution_count": 61,
   "id": "34e9a8df-6997-49d1-8c82-b291a5995991",
   "metadata": {},
   "outputs": [
    {
     "data": {
      "text/plain": [
       "업무구분명\n",
       "물품    42685\n",
       "용역     9309\n",
       "Name: 최종낙찰금액, dtype: int64"
      ]
     },
     "execution_count": 61,
     "metadata": {},
     "output_type": "execute_result"
    }
   ],
   "source": [
    "# '업무구분명'별로 '최종낙찰금액'의 합계 구하기\n",
    "result_job.groupby('업무구분명')['최종낙찰금액'].count() "
   ]
  },
  {
   "cell_type": "code",
   "execution_count": 62,
   "id": "6e131e6e-bf34-40ff-8282-ad50d36708cf",
   "metadata": {},
   "outputs": [
    {
     "data": {
      "text/plain": [
       "업무구분명\n",
       "물품    2.056181e+13\n",
       "용역    3.697169e+12\n",
       "Name: 최종낙찰금액, dtype: float64"
      ]
     },
     "execution_count": 62,
     "metadata": {},
     "output_type": "execute_result"
    }
   ],
   "source": [
    "result_job.groupby('업무구분명')['최종낙찰금액'].sum() "
   ]
  },
  {
   "cell_type": "code",
   "execution_count": 63,
   "id": "b9cba5b8-c381-4953-8ec4-1891d7697a11",
   "metadata": {},
   "outputs": [
    {
     "data": {
      "text/plain": [
       "업무구분명\n",
       "물품    4.817104e+08\n",
       "용역    3.971607e+08\n",
       "Name: 최종낙찰금액, dtype: float64"
      ]
     },
     "execution_count": 63,
     "metadata": {},
     "output_type": "execute_result"
    }
   ],
   "source": [
    "result_job.groupby('업무구분명')['최종낙찰금액'].mean() # 건당 최종낙찰금 물품이 더 높음"
   ]
  },
  {
   "cell_type": "code",
   "execution_count": 64,
   "id": "da2584b0-1532-4c17-8290-16f8e8c2a51b",
   "metadata": {},
   "outputs": [
    {
     "data": {
      "text/plain": [
       "업무구분명\n",
       "물품    0.876652\n",
       "용역    0.872330\n",
       "Name: 하락비율, dtype: float64"
      ]
     },
     "execution_count": 64,
     "metadata": {},
     "output_type": "execute_result"
    }
   ],
   "source": [
    "result_job.groupby('업무구분명')['하락비율'].mean() # 예상금액에서 최종낙찰금으로 하락한 정도는 둘다 비슷"
   ]
  },
  {
   "cell_type": "markdown",
   "id": "5b8f072e-37b9-4257-8459-5a801cbb77e7",
   "metadata": {},
   "source": [
    "#### 낙찰에 소요된 기간 "
   ]
  },
  {
   "cell_type": "code",
   "execution_count": 65,
   "id": "e7df6097-42cb-4a8f-a0e3-5abb3fe5f892",
   "metadata": {},
   "outputs": [],
   "source": [
    "result_job['최종낙찰일자'] = pd.to_datetime(result_job['최종낙찰일자'])\n",
    "result_job['개찰일자'] = pd.to_datetime(result_job['개찰일자'])\n"
   ]
  },
  {
   "cell_type": "code",
   "execution_count": 66,
   "id": "13cd4575-84f1-40ee-8b1b-c813eaecbe6c",
   "metadata": {},
   "outputs": [],
   "source": [
    "# 새 컬럼 생성 (개찰일 ~ 낙찰일 소요기간)\n",
    "result_job['낙찰기간'] = result_job['최종낙찰일자'] - result_job['개찰일자']"
   ]
  },
  {
   "cell_type": "code",
   "execution_count": 73,
   "id": "a03a7c28-7749-4311-994d-4889a9fd80de",
   "metadata": {},
   "outputs": [
    {
     "data": {
      "text/plain": [
       "count                         51994\n",
       "mean      0 days 19:31:19.555333307\n",
       "std      11 days 06:45:07.113232398\n",
       "min              -11 days +00:00:00\n",
       "25%                 0 days 00:00:00\n",
       "50%                 0 days 00:00:00\n",
       "75%                 0 days 00:00:00\n",
       "max              1629 days 00:00:00\n",
       "Name: 낙찰기간, dtype: object"
      ]
     },
     "execution_count": 73,
     "metadata": {},
     "output_type": "execute_result"
    }
   ],
   "source": [
    "result_job.낙찰기간.describe() # 평균 19시간 소요..? / 편차가 큼 -> 건별로 소요기간이 상이함(넓게퍼짐)\n"
   ]
  },
  {
   "cell_type": "markdown",
   "id": "ba12bde4-499c-42ef-817c-37eec6053130",
   "metadata": {},
   "source": [
    "#### 낙찰 방법별 집계"
   ]
  },
  {
   "cell_type": "code",
   "execution_count": 74,
   "id": "bd1cff1d-7e6a-4cde-8a2a-86c95763cca1",
   "metadata": {},
   "outputs": [
    {
     "data": {
      "text/plain": [
       "array(['협상', '적격심사제', '최저가격제'], dtype=object)"
      ]
     },
     "execution_count": 74,
     "metadata": {},
     "output_type": "execute_result"
    }
   ],
   "source": [
    "result_job.낙찰자결정방법명.unique()"
   ]
  },
  {
   "cell_type": "code",
   "execution_count": 77,
   "id": "94744f2b-a3e0-4e39-8588-66c8b8d55066",
   "metadata": {},
   "outputs": [
    {
     "data": {
      "text/html": [
       "<div>\n",
       "<style scoped>\n",
       "    .dataframe tbody tr th:only-of-type {\n",
       "        vertical-align: middle;\n",
       "    }\n",
       "\n",
       "    .dataframe tbody tr th {\n",
       "        vertical-align: top;\n",
       "    }\n",
       "\n",
       "    .dataframe thead th {\n",
       "        text-align: right;\n",
       "    }\n",
       "</style>\n",
       "<table border=\"1\" class=\"dataframe\">\n",
       "  <thead>\n",
       "    <tr style=\"text-align: right;\">\n",
       "      <th></th>\n",
       "      <th>count</th>\n",
       "      <th>mean</th>\n",
       "      <th>std</th>\n",
       "      <th>min</th>\n",
       "      <th>25%</th>\n",
       "      <th>50%</th>\n",
       "      <th>75%</th>\n",
       "      <th>max</th>\n",
       "    </tr>\n",
       "    <tr>\n",
       "      <th>낙찰자결정방법명</th>\n",
       "      <th></th>\n",
       "      <th></th>\n",
       "      <th></th>\n",
       "      <th></th>\n",
       "      <th></th>\n",
       "      <th></th>\n",
       "      <th></th>\n",
       "      <th></th>\n",
       "    </tr>\n",
       "  </thead>\n",
       "  <tbody>\n",
       "    <tr>\n",
       "      <th>적격심사제</th>\n",
       "      <td>43584.0</td>\n",
       "      <td>2.467994e+08</td>\n",
       "      <td>4.171196e+09</td>\n",
       "      <td>0.0</td>\n",
       "      <td>16882752.5</td>\n",
       "      <td>51649077.0</td>\n",
       "      <td>1.419629e+08</td>\n",
       "      <td>7.050000e+11</td>\n",
       "    </tr>\n",
       "    <tr>\n",
       "      <th>최저가격제</th>\n",
       "      <td>6668.0</td>\n",
       "      <td>3.447837e+08</td>\n",
       "      <td>2.616320e+09</td>\n",
       "      <td>0.0</td>\n",
       "      <td>6871625.0</td>\n",
       "      <td>23016233.5</td>\n",
       "      <td>5.200000e+07</td>\n",
       "      <td>1.120000e+11</td>\n",
       "    </tr>\n",
       "    <tr>\n",
       "      <th>협상</th>\n",
       "      <td>1742.0</td>\n",
       "      <td>6.431373e+09</td>\n",
       "      <td>4.851440e+10</td>\n",
       "      <td>0.0</td>\n",
       "      <td>40053500.0</td>\n",
       "      <td>79000000.0</td>\n",
       "      <td>4.237500e+08</td>\n",
       "      <td>1.101950e+12</td>\n",
       "    </tr>\n",
       "  </tbody>\n",
       "</table>\n",
       "</div>"
      ],
      "text/plain": [
       "            count          mean           std  min         25%         50%  \\\n",
       "낙찰자결정방법명                                                                     \n",
       "적격심사제     43584.0  2.467994e+08  4.171196e+09  0.0  16882752.5  51649077.0   \n",
       "최저가격제      6668.0  3.447837e+08  2.616320e+09  0.0   6871625.0  23016233.5   \n",
       "협상         1742.0  6.431373e+09  4.851440e+10  0.0  40053500.0  79000000.0   \n",
       "\n",
       "                   75%           max  \n",
       "낙찰자결정방법명                              \n",
       "적격심사제     1.419629e+08  7.050000e+11  \n",
       "최저가격제     5.200000e+07  1.120000e+11  \n",
       "협상        4.237500e+08  1.101950e+12  "
      ]
     },
     "execution_count": 77,
     "metadata": {},
     "output_type": "execute_result"
    }
   ],
   "source": [
    "result_job.groupby('낙찰자결정방법명')['최종낙찰금액'].describe()"
   ]
  },
  {
   "cell_type": "code",
   "execution_count": null,
   "id": "e3aad50c-b8d4-4bd4-b453-0977984f0bc3",
   "metadata": {},
   "outputs": [],
   "source": []
  }
 ],
 "metadata": {
  "kernelspec": {
   "display_name": "Python [conda env:base] *",
   "language": "python",
   "name": "conda-base-py"
  },
  "language_info": {
   "codemirror_mode": {
    "name": "ipython",
    "version": 3
   },
   "file_extension": ".py",
   "mimetype": "text/x-python",
   "name": "python",
   "nbconvert_exporter": "python",
   "pygments_lexer": "ipython3",
   "version": "3.13.5"
  }
 },
 "nbformat": 4,
 "nbformat_minor": 5
}
