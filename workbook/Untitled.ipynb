{
 "cells": [
  {
   "cell_type": "markdown",
   "id": "0e51e99a-1235-454a-b9da-fd0db89c1e25",
   "metadata": {},
   "source": [
    "공고기관명\n",
    "해군군수사령부      \n",
    "육군군수사령부      \n",
    "공군군수사령부       \n",
    "국군의무사령부       \n",
    "해군제3함대사령부      \n",
    "공군교육사령부        \n",
    "육군교육사령부        \n",
    "육군인사사령부        \n",
    "해군작전사령부        \n",
    "특수전사령부         \n",
    "수도방위사령부        \n",
    "제5군단사령부    \n",
    "\n",
    "- 유찰 등 결과별 개수\n",
    "\n",
    "- 낙찰 ~ 계약 \n"
   ]
  },
  {
   "cell_type": "code",
   "execution_count": 1,
   "id": "f58a2d8b-1d5d-47c4-815b-b0924f68f112",
   "metadata": {},
   "outputs": [
    {
     "name": "stderr",
     "output_type": "stream",
     "text": [
      "C:\\Users\\user\\AppData\\Local\\Temp\\ipykernel_19940\\4263699960.py:3: DtypeWarning: Columns (38,39,40,41,42,43,44,45) have mixed types. Specify dtype option on import or set low_memory=False.\n",
      "  start = pd.read_csv('D:/workspace/02_Crawling_Project/theBoram4Jo/data/방위사업청_국내조달 경쟁 입찰공고_20241031.csv', encoding='cp949')\n"
     ]
    }
   ],
   "source": [
    "import pandas as pd\n",
    "result = pd.read_csv('D:/workspace/02_Crawling_Project/theBoram4Jo/data/방위사업청_국내조달 경쟁 입찰결과_20241031.csv', encoding='cp949') \n",
    "start = pd.read_csv('D:/workspace/02_Crawling_Project/theBoram4Jo/data/방위사업청_국내조달 경쟁 입찰공고_20241031.csv', encoding='cp949')\n",
    "\n",
    "연도공고번호 = []\n",
    "\n",
    "for a, i in zip(result.개찰일자, result.입찰공고번호):\n",
    "    b = a.split('-')\n",
    "    c = b[0]\n",
    "    연도공고번호.append(c + i)\n",
    "\n",
    "result['연도공고번호'] = 연도공고번호\n"
   ]
  },
  {
   "cell_type": "code",
   "execution_count": 3,
   "id": "bc9f6e1b-cc99-4766-914a-0923dcbb2cc3",
   "metadata": {},
   "outputs": [
    {
     "data": {
      "text/plain": [
       "213"
      ]
     },
     "execution_count": 3,
     "metadata": {},
     "output_type": "execute_result"
    }
   ],
   "source": [
    "result.공고기관명.nunique() #213개\n",
    "result.수요기관명.nunique() #213개\n",
    "start.공고기관명.nunique() #214개\n",
    "start.수요기관명.nunique() #214개"
   ]
  },
  {
   "cell_type": "code",
   "execution_count": 10,
   "id": "cf3437aa-8fe3-4c86-bafb-a0d9783640e1",
   "metadata": {},
   "outputs": [
    {
     "data": {
      "text/html": [
       "<div>\n",
       "<style scoped>\n",
       "    .dataframe tbody tr th:only-of-type {\n",
       "        vertical-align: middle;\n",
       "    }\n",
       "\n",
       "    .dataframe tbody tr th {\n",
       "        vertical-align: top;\n",
       "    }\n",
       "\n",
       "    .dataframe thead th {\n",
       "        text-align: right;\n",
       "    }\n",
       "</style>\n",
       "<table border=\"1\" class=\"dataframe\">\n",
       "  <thead>\n",
       "    <tr style=\"text-align: right;\">\n",
       "      <th></th>\n",
       "      <th>count</th>\n",
       "      <th>unique</th>\n",
       "      <th>top</th>\n",
       "      <th>freq</th>\n",
       "    </tr>\n",
       "    <tr>\n",
       "      <th>공고기관명</th>\n",
       "      <th></th>\n",
       "      <th></th>\n",
       "      <th></th>\n",
       "      <th></th>\n",
       "    </tr>\n",
       "  </thead>\n",
       "  <tbody>\n",
       "    <tr>\n",
       "      <th>국군재정관리단</th>\n",
       "      <td>10918</td>\n",
       "      <td>3</td>\n",
       "      <td>개찰완료</td>\n",
       "      <td>9560</td>\n",
       "    </tr>\n",
       "    <tr>\n",
       "      <th>해군군수사령부</th>\n",
       "      <td>9938</td>\n",
       "      <td>3</td>\n",
       "      <td>개찰완료</td>\n",
       "      <td>7083</td>\n",
       "    </tr>\n",
       "    <tr>\n",
       "      <th>방위사업청</th>\n",
       "      <td>9747</td>\n",
       "      <td>3</td>\n",
       "      <td>개찰완료</td>\n",
       "      <td>5156</td>\n",
       "    </tr>\n",
       "    <tr>\n",
       "      <th>육군군수사령부</th>\n",
       "      <td>7031</td>\n",
       "      <td>3</td>\n",
       "      <td>유찰</td>\n",
       "      <td>3366</td>\n",
       "    </tr>\n",
       "    <tr>\n",
       "      <th>제2879부대</th>\n",
       "      <td>5949</td>\n",
       "      <td>3</td>\n",
       "      <td>개찰완료</td>\n",
       "      <td>3104</td>\n",
       "    </tr>\n",
       "    <tr>\n",
       "      <th>...</th>\n",
       "      <td>...</td>\n",
       "      <td>...</td>\n",
       "      <td>...</td>\n",
       "      <td>...</td>\n",
       "    </tr>\n",
       "    <tr>\n",
       "      <th>해군대학</th>\n",
       "      <td>1</td>\n",
       "      <td>1</td>\n",
       "      <td>개찰완료</td>\n",
       "      <td>1</td>\n",
       "    </tr>\n",
       "    <tr>\n",
       "      <th>제1719부대</th>\n",
       "      <td>1</td>\n",
       "      <td>1</td>\n",
       "      <td>개찰완료</td>\n",
       "      <td>1</td>\n",
       "    </tr>\n",
       "    <tr>\n",
       "      <th>제2112부대</th>\n",
       "      <td>1</td>\n",
       "      <td>1</td>\n",
       "      <td>유찰</td>\n",
       "      <td>1</td>\n",
       "    </tr>\n",
       "    <tr>\n",
       "      <th>육군전투지휘훈련단</th>\n",
       "      <td>1</td>\n",
       "      <td>1</td>\n",
       "      <td>개찰완료</td>\n",
       "      <td>1</td>\n",
       "    </tr>\n",
       "    <tr>\n",
       "      <th>국방부 국방정책실</th>\n",
       "      <td>1</td>\n",
       "      <td>1</td>\n",
       "      <td>개찰완료</td>\n",
       "      <td>1</td>\n",
       "    </tr>\n",
       "  </tbody>\n",
       "</table>\n",
       "<p>213 rows × 4 columns</p>\n",
       "</div>"
      ],
      "text/plain": [
       "           count unique   top  freq\n",
       "공고기관명                              \n",
       "국군재정관리단    10918      3  개찰완료  9560\n",
       "해군군수사령부     9938      3  개찰완료  7083\n",
       "방위사업청       9747      3  개찰완료  5156\n",
       "육군군수사령부     7031      3    유찰  3366\n",
       "제2879부대     5949      3  개찰완료  3104\n",
       "...          ...    ...   ...   ...\n",
       "해군대학           1      1  개찰완료     1\n",
       "제1719부대        1      1  개찰완료     1\n",
       "제2112부대        1      1    유찰     1\n",
       "육군전투지휘훈련단      1      1  개찰완료     1\n",
       "국방부 국방정책실      1      1  개찰완료     1\n",
       "\n",
       "[213 rows x 4 columns]"
      ]
     },
     "execution_count": 10,
     "metadata": {},
     "output_type": "execute_result"
    }
   ],
   "source": [
    "result.groupby('공고기관명')['개찰결과구분명'].describe().sort_values('count', ascending=False)"
   ]
  },
  {
   "cell_type": "code",
   "execution_count": 11,
   "id": "05ce2dfa-c5cf-4bac-a5bb-5e74ae001151",
   "metadata": {},
   "outputs": [
    {
     "ename": "ValueError",
     "evalue": "The truth value of a Series is ambiguous. Use a.empty, a.bool(), a.item(), a.any() or a.all().",
     "output_type": "error",
     "traceback": [
      "\u001b[1;31m---------------------------------------------------------------------------\u001b[0m",
      "\u001b[1;31mValueError\u001b[0m                                Traceback (most recent call last)",
      "Cell \u001b[1;32mIn[11], line 2\u001b[0m\n\u001b[0;32m      1\u001b[0m top5 \u001b[38;5;241m=\u001b[39m [\u001b[38;5;124m'\u001b[39m\u001b[38;5;124m해군군수사령부\u001b[39m\u001b[38;5;124m'\u001b[39m,\u001b[38;5;124m'\u001b[39m\u001b[38;5;124m육군군수사령부\u001b[39m\u001b[38;5;124m'\u001b[39m,\u001b[38;5;124m'\u001b[39m\u001b[38;5;124m공군군수사령부\u001b[39m\u001b[38;5;124m'\u001b[39m,\u001b[38;5;124m'\u001b[39m\u001b[38;5;124m국군의무사령부\u001b[39m\u001b[38;5;124m'\u001b[39m, \u001b[38;5;124m'\u001b[39m\u001b[38;5;124m해군제3함대사령부\u001b[39m\u001b[38;5;124m'\u001b[39m]\n\u001b[1;32m----> 2\u001b[0m \u001b[38;5;28;01mif\u001b[39;00m result[\u001b[38;5;124m'\u001b[39m\u001b[38;5;124m공고기관명\u001b[39m\u001b[38;5;124m'\u001b[39m] \u001b[38;5;129;01min\u001b[39;00m top5:\n\u001b[0;32m      3\u001b[0m     result\u001b[38;5;241m.\u001b[39mgroupby(\u001b[38;5;124m'\u001b[39m\u001b[38;5;124m공고기관명\u001b[39m\u001b[38;5;124m'\u001b[39m)[\u001b[38;5;124m'\u001b[39m\u001b[38;5;124m개찰결과구분명\u001b[39m\u001b[38;5;124m'\u001b[39m]\u001b[38;5;241m.\u001b[39mdescribe()\u001b[38;5;241m.\u001b[39msort_values(\u001b[38;5;124m'\u001b[39m\u001b[38;5;124mcount\u001b[39m\u001b[38;5;124m'\u001b[39m, ascending\u001b[38;5;241m=\u001b[39m\u001b[38;5;28;01mFalse\u001b[39;00m)\n",
      "File \u001b[1;32m~\\anaconda3\\Lib\\site-packages\\pandas\\core\\generic.py:1577\u001b[0m, in \u001b[0;36mNDFrame.__nonzero__\u001b[1;34m(self)\u001b[0m\n\u001b[0;32m   1575\u001b[0m \u001b[38;5;129m@final\u001b[39m\n\u001b[0;32m   1576\u001b[0m \u001b[38;5;28;01mdef\u001b[39;00m\u001b[38;5;250m \u001b[39m\u001b[38;5;21m__nonzero__\u001b[39m(\u001b[38;5;28mself\u001b[39m) \u001b[38;5;241m-\u001b[39m\u001b[38;5;241m>\u001b[39m NoReturn:\n\u001b[1;32m-> 1577\u001b[0m     \u001b[38;5;28;01mraise\u001b[39;00m \u001b[38;5;167;01mValueError\u001b[39;00m(\n\u001b[0;32m   1578\u001b[0m         \u001b[38;5;124mf\u001b[39m\u001b[38;5;124m\"\u001b[39m\u001b[38;5;124mThe truth value of a \u001b[39m\u001b[38;5;132;01m{\u001b[39;00m\u001b[38;5;28mtype\u001b[39m(\u001b[38;5;28mself\u001b[39m)\u001b[38;5;241m.\u001b[39m\u001b[38;5;18m__name__\u001b[39m\u001b[38;5;132;01m}\u001b[39;00m\u001b[38;5;124m is ambiguous. \u001b[39m\u001b[38;5;124m\"\u001b[39m\n\u001b[0;32m   1579\u001b[0m         \u001b[38;5;124m\"\u001b[39m\u001b[38;5;124mUse a.empty, a.bool(), a.item(), a.any() or a.all().\u001b[39m\u001b[38;5;124m\"\u001b[39m\n\u001b[0;32m   1580\u001b[0m     )\n",
      "\u001b[1;31mValueError\u001b[0m: The truth value of a Series is ambiguous. Use a.empty, a.bool(), a.item(), a.any() or a.all()."
     ]
    }
   ],
   "source": [
    "top5 = ['해군군수사령부','육군군수사령부','공군군수사령부','국군의무사령부', '해군제3함대사령부']\n",
    "df_5 = result[result['공고기관명'].isin(top5)]\n",
    "df_top5 = df_5.groupby('공고기관명')['개찰결과구분명'].describe()"
   ]
  },
  {
   "cell_type": "code",
   "execution_count": null,
   "id": "e18dbf2d-5065-4e80-88b2-ba29d0a53896",
   "metadata": {},
   "outputs": [],
   "source": []
  }
 ],
 "metadata": {
  "kernelspec": {
   "display_name": "Python 3 (ipykernel)",
   "language": "python",
   "name": "python3"
  },
  "language_info": {
   "codemirror_mode": {
    "name": "ipython",
    "version": 3
   },
   "file_extension": ".py",
   "mimetype": "text/x-python",
   "name": "python",
   "nbconvert_exporter": "python",
   "pygments_lexer": "ipython3",
   "version": "3.13.5"
  }
 },
 "nbformat": 4,
 "nbformat_minor": 5
}
