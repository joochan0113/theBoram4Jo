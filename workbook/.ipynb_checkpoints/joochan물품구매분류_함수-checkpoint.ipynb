{
 "cells": [
  {
   "cell_type": "markdown",
   "id": "0c1f964f-96fd-423a-9e56-49d834f0eb24",
   "metadata": {},
   "source": [
    "### 입찰결과 (물품) 의 공고명 분류와 분류별 겹치는 행 찾기"
   ]
  },
  {
   "cell_type": "code",
   "execution_count": 1,
   "id": "18654fe5-8054-4763-83e6-0bcc38c7e501",
   "metadata": {},
   "outputs": [],
   "source": [
    "import pandas as pd\n",
    "import numpy as np\n",
    "import os\n",
    "import matplotlib.pyplot as plt\n",
    "import seaborn as sns\n",
    "from wordcloud import WordCloud\n",
    "from konlpy.tag import Okt, Kkma, Komoran\n",
    "from collections import Counter\n",
    "import pickle"
   ]
  },
  {
   "cell_type": "code",
   "execution_count": 2,
   "id": "64d656c3-0ded-4ffc-8652-03771a988902",
   "metadata": {},
   "outputs": [],
   "source": [
    "path = 'workbookdata/입찰결과물품_df.csv'\n",
    "입찰결과물품df = pd.read_csv(path, encoding='cp949')\n",
    "결과_입찰공고명 = 입찰결과물품df.입찰공고명"
   ]
  },
  {
   "cell_type": "code",
   "execution_count": 18,
   "id": "397bd68b-09f3-4936-babb-d5a279696d9f",
   "metadata": {},
   "outputs": [],
   "source": [
    "def categorizeBig(df, category):\n",
    "    # 카테고리별 pick_list와 remove_list 정의\n",
    "    category_keywords = {\n",
    "        '4종': {\n",
    "            'pick_list': ['목재류','건축용', '아파트', '숙소', '제조설치', '철재', '철근', '철선', \\\n",
    "                  '페인트', '시멘트', '보일러', '콘크리트', '아스팔트', '벽돌', '타일', '생활관', \\\n",
    "                  '토목', '강관', '신축'],\n",
    "            'remove_list': ['병원', '의무', '치료']\n",
    "        },\n",
    "        '8종': {\n",
    "            'pick_list': ['병원', '환자', '의무', '외상', '안과', '자극', '신경', '의학', \\\n",
    "                 '이비인후과', '치과', '붕대', '외과', '수술', '의료', '병리', '예방약', \\\n",
    "                 '방사선장비', '의약품', '치료', '안경제작', '위생'],\n",
    "            'remove_list': ['신축', '보일러', '제조설치']\n",
    "        }\n",
    "    }\n",
    "    \n",
    "    # 유효한 카테고리인지 확인\n",
    "    if category not in category_keywords:\n",
    "        raise ValueError(f\"지원하지 않는 카테고리: {category}. 지원 카테고리: {list(category_keywords.keys())}\")\n",
    "    \n",
    "    # pick_list와 remove_list 가져오기\n",
    "    pick_list = category_keywords[category]['pick_list']\n",
    "    remove_list = category_keywords[category]['remove_list']\n",
    "    \n",
    "    # 정규표현식 패턴 생성\n",
    "    pick_pattern = '|'.join(pick_list)\n",
    "    \n",
    "    # pick_list로 필터링\n",
    "    result_df = df[df['입찰공고명'].str.contains(pick_pattern, na=False, regex=True)]\n",
    "    \n",
    "    # remove_list가 비어 있지 않으면 제거 필터링\n",
    "    if remove_list and remove_list != ['']:\n",
    "        remove_pattern = '|'.join(remove_list)\n",
    "        result_df = result_df[~result_df['입찰공고명'].str.contains(remove_pattern, na=False, regex=True)]\n",
    "    \n",
    "    # 필요한 컬럼만 선택\n",
    "    result_df = result_df[['입찰공고명', '공고기관명']]\n",
    "    print(f'{category} 결과 건수: {len(result_df)}건')\n",
    "\n",
    "    return result_df"
   ]
  },
  {
   "cell_type": "code",
   "execution_count": 19,
   "id": "0ead88ff-a130-465a-8cc5-f0d16c1e9bc2",
   "metadata": {},
   "outputs": [
    {
     "name": "stdout",
     "output_type": "stream",
     "text": [
      "4종 결과 건수: 2285건\n"
     ]
    },
    {
     "data": {
      "text/html": [
       "<div>\n",
       "<style scoped>\n",
       "    .dataframe tbody tr th:only-of-type {\n",
       "        vertical-align: middle;\n",
       "    }\n",
       "\n",
       "    .dataframe tbody tr th {\n",
       "        vertical-align: top;\n",
       "    }\n",
       "\n",
       "    .dataframe thead th {\n",
       "        text-align: right;\n",
       "    }\n",
       "</style>\n",
       "<table border=\"1\" class=\"dataframe\">\n",
       "  <thead>\n",
       "    <tr style=\"text-align: right;\">\n",
       "      <th></th>\n",
       "      <th>입찰공고명</th>\n",
       "      <th>공고기관명</th>\n",
       "    </tr>\n",
       "  </thead>\n",
       "  <tbody>\n",
       "    <tr>\n",
       "      <th>34</th>\n",
       "      <td>13-본-국대-01 00학교이전 공기조화기 제조설치</td>\n",
       "      <td>국군재정관리단</td>\n",
       "    </tr>\n",
       "    <tr>\n",
       "      <th>272</th>\n",
       "      <td>간부숙소 알루미늄창호 제조설치</td>\n",
       "      <td>국군재정관리단</td>\n",
       "    </tr>\n",
       "    <tr>\n",
       "      <th>315</th>\n",
       "      <td>영내관사 보일러 및 분배기 구매/설치</td>\n",
       "      <td>공군제11전투비행단</td>\n",
       "    </tr>\n",
       "    <tr>\n",
       "      <th>319</th>\n",
       "      <td>계룡대 비상용발전기 제조설치 납품</td>\n",
       "      <td>국군재정관리단</td>\n",
       "    </tr>\n",
       "    <tr>\n",
       "      <th>343</th>\n",
       "      <td>16-D-021-철재 장의자 등 5종 제조 납품</td>\n",
       "      <td>국군재정관리단</td>\n",
       "    </tr>\n",
       "    <tr>\n",
       "      <th>...</th>\n",
       "      <td>...</td>\n",
       "      <td>...</td>\n",
       "    </tr>\n",
       "    <tr>\n",
       "      <th>61267</th>\n",
       "      <td>주-대-1 일산에버나인 아파트 싱크대 제조설치납품</td>\n",
       "      <td>제9보병사단사령부</td>\n",
       "    </tr>\n",
       "    <tr>\n",
       "      <th>61305</th>\n",
       "      <td>[24-04]00부대 실내체육관 신축 자동제어 제조설치</td>\n",
       "      <td>제3007부대</td>\n",
       "    </tr>\n",
       "    <tr>\n",
       "      <th>61334</th>\n",
       "      <td>(246366-E) 기동형 방송시스템 제조설치</td>\n",
       "      <td>국군재정관리단</td>\n",
       "    </tr>\n",
       "    <tr>\n",
       "      <th>61353</th>\n",
       "      <td>24-미-5 미사일방어태세 보강 공사 방호벽 제조설치</td>\n",
       "      <td>공군미사일방어사령부</td>\n",
       "    </tr>\n",
       "    <tr>\n",
       "      <th>61394</th>\n",
       "      <td>24-N-0함대 부두 로딩암 제조설치</td>\n",
       "      <td>국군재정관리단</td>\n",
       "    </tr>\n",
       "  </tbody>\n",
       "</table>\n",
       "<p>2285 rows × 2 columns</p>\n",
       "</div>"
      ],
      "text/plain": [
       "                                입찰공고명       공고기관명\n",
       "34       13-본-국대-01 00학교이전 공기조화기 제조설치     국군재정관리단\n",
       "272                  간부숙소 알루미늄창호 제조설치     국군재정관리단\n",
       "315              영내관사 보일러 및 분배기 구매/설치  공군제11전투비행단\n",
       "319                계룡대 비상용발전기 제조설치 납품     국군재정관리단\n",
       "343        16-D-021-철재 장의자 등 5종 제조 납품     국군재정관리단\n",
       "...                               ...         ...\n",
       "61267     주-대-1 일산에버나인 아파트 싱크대 제조설치납품   제9보병사단사령부\n",
       "61305  [24-04]00부대 실내체육관 신축 자동제어 제조설치     제3007부대\n",
       "61334       (246366-E) 기동형 방송시스템 제조설치     국군재정관리단\n",
       "61353   24-미-5 미사일방어태세 보강 공사 방호벽 제조설치  공군미사일방어사령부\n",
       "61394            24-N-0함대 부두 로딩암 제조설치     국군재정관리단\n",
       "\n",
       "[2285 rows x 2 columns]"
      ]
     },
     "execution_count": 19,
     "metadata": {},
     "output_type": "execute_result"
    }
   ],
   "source": [
    "categorizeBig(입찰결과물품df, '4종')"
   ]
  },
  {
   "cell_type": "code",
   "execution_count": 20,
   "id": "ea89bd50-d0d5-4cb5-abc8-f5acc59dced1",
   "metadata": {},
   "outputs": [
    {
     "name": "stdout",
     "output_type": "stream",
     "text": [
      "8종 결과 건수: 3503건\n"
     ]
    },
    {
     "data": {
      "text/html": [
       "<div>\n",
       "<style scoped>\n",
       "    .dataframe tbody tr th:only-of-type {\n",
       "        vertical-align: middle;\n",
       "    }\n",
       "\n",
       "    .dataframe tbody tr th {\n",
       "        vertical-align: top;\n",
       "    }\n",
       "\n",
       "    .dataframe thead th {\n",
       "        text-align: right;\n",
       "    }\n",
       "</style>\n",
       "<table border=\"1\" class=\"dataframe\">\n",
       "  <thead>\n",
       "    <tr style=\"text-align: right;\">\n",
       "      <th></th>\n",
       "      <th>입찰공고명</th>\n",
       "      <th>공고기관명</th>\n",
       "    </tr>\n",
       "  </thead>\n",
       "  <tbody>\n",
       "    <tr>\n",
       "      <th>5</th>\n",
       "      <td>16년 대전병원 장비운영유지비(외과장비3) 구매</td>\n",
       "      <td>국군대전병원</td>\n",
       "    </tr>\n",
       "    <tr>\n",
       "      <th>6</th>\n",
       "      <td>16년 대전병원 장비운영유지비(외과장비1) 구매</td>\n",
       "      <td>국군대전병원</td>\n",
       "    </tr>\n",
       "    <tr>\n",
       "      <th>11</th>\n",
       "      <td>16년 대전병원 장비운영유지비(영상장비) 구매</td>\n",
       "      <td>국군대전병원</td>\n",
       "    </tr>\n",
       "    <tr>\n",
       "      <th>12</th>\n",
       "      <td>16년 대전병원 장비운영유지비(영상장비) 구매</td>\n",
       "      <td>국군대전병원</td>\n",
       "    </tr>\n",
       "    <tr>\n",
       "      <th>60</th>\n",
       "      <td>대전병원 병리재료 소모품 67종 구매</td>\n",
       "      <td>국군재정관리단</td>\n",
       "    </tr>\n",
       "    <tr>\n",
       "      <th>...</th>\n",
       "      <td>...</td>\n",
       "      <td>...</td>\n",
       "    </tr>\n",
       "    <tr>\n",
       "      <th>61400</th>\n",
       "      <td>24년 재투자 의무장비(손세척대) 구매</td>\n",
       "      <td>국군수도병원</td>\n",
       "    </tr>\n",
       "    <tr>\n",
       "      <th>61406</th>\n",
       "      <td>의무장비(비디오 기도삽관기) 구매</td>\n",
       "      <td>제9691부대</td>\n",
       "    </tr>\n",
       "    <tr>\n",
       "      <th>61421</th>\n",
       "      <td>24년 의무장비(전자동정제분류포장기) 구매</td>\n",
       "      <td>국군의무사령부</td>\n",
       "    </tr>\n",
       "    <tr>\n",
       "      <th>61422</th>\n",
       "      <td>24년 의무장비(자동분석기 생화학용 중형) 구매</td>\n",
       "      <td>국군의무사령부</td>\n",
       "    </tr>\n",
       "    <tr>\n",
       "      <th>61423</th>\n",
       "      <td>24년 의무장비(자동혈구계산기 중형) 구매</td>\n",
       "      <td>국군의무사령부</td>\n",
       "    </tr>\n",
       "  </tbody>\n",
       "</table>\n",
       "<p>3503 rows × 2 columns</p>\n",
       "</div>"
      ],
      "text/plain": [
       "                            입찰공고명    공고기관명\n",
       "5      16년 대전병원 장비운영유지비(외과장비3) 구매   국군대전병원\n",
       "6      16년 대전병원 장비운영유지비(외과장비1) 구매   국군대전병원\n",
       "11      16년 대전병원 장비운영유지비(영상장비) 구매   국군대전병원\n",
       "12      16년 대전병원 장비운영유지비(영상장비) 구매   국군대전병원\n",
       "60           대전병원 병리재료 소모품 67종 구매  국군재정관리단\n",
       "...                           ...      ...\n",
       "61400       24년 재투자 의무장비(손세척대) 구매   국군수도병원\n",
       "61406          의무장비(비디오 기도삽관기) 구매  제9691부대\n",
       "61421     24년 의무장비(전자동정제분류포장기) 구매  국군의무사령부\n",
       "61422  24년 의무장비(자동분석기 생화학용 중형) 구매  국군의무사령부\n",
       "61423     24년 의무장비(자동혈구계산기 중형) 구매  국군의무사령부\n",
       "\n",
       "[3503 rows x 2 columns]"
      ]
     },
     "execution_count": 20,
     "metadata": {},
     "output_type": "execute_result"
    }
   ],
   "source": [
    "categorizeBig(입찰결과물품df, '8종')"
   ]
  },
  {
   "cell_type": "code",
   "execution_count": 24,
   "id": "41e1f71d-e03b-4b4d-b4cd-a7118c6d2eff",
   "metadata": {},
   "outputs": [],
   "source": [
    "def checkDuplicatesInBidName(classA, classB):\n",
    "    Adf = categorizeBig(입찰결과물품df, classA)\n",
    "    Bdf = categorizeBig(입찰결과물품df, classB)\n",
    "    sameDF = Adf[Adf['입찰공고명'].isin(Bdf['입찰공고명'])]\n",
    "    return sameDF"
   ]
  },
  {
   "cell_type": "code",
   "execution_count": 25,
   "id": "7b4bc4c9-6acc-4fbb-9fd6-e4485671f488",
   "metadata": {},
   "outputs": [
    {
     "name": "stdout",
     "output_type": "stream",
     "text": [
      "4종 결과 건수: 2285건\n",
      "8종 결과 건수: 3503건\n"
     ]
    },
    {
     "data": {
      "text/html": [
       "<div>\n",
       "<style scoped>\n",
       "    .dataframe tbody tr th:only-of-type {\n",
       "        vertical-align: middle;\n",
       "    }\n",
       "\n",
       "    .dataframe tbody tr th {\n",
       "        vertical-align: top;\n",
       "    }\n",
       "\n",
       "    .dataframe thead th {\n",
       "        text-align: right;\n",
       "    }\n",
       "</style>\n",
       "<table border=\"1\" class=\"dataframe\">\n",
       "  <thead>\n",
       "    <tr style=\"text-align: right;\">\n",
       "      <th></th>\n",
       "      <th>입찰공고명</th>\n",
       "      <th>공고기관명</th>\n",
       "    </tr>\n",
       "  </thead>\n",
       "  <tbody>\n",
       "  </tbody>\n",
       "</table>\n",
       "</div>"
      ],
      "text/plain": [
       "Empty DataFrame\n",
       "Columns: [입찰공고명, 공고기관명]\n",
       "Index: []"
      ]
     },
     "execution_count": 25,
     "metadata": {},
     "output_type": "execute_result"
    }
   ],
   "source": [
    "checkDuplicatesInBidName('4종', '8종')"
   ]
  },
  {
   "cell_type": "code",
   "execution_count": 18,
   "id": "33eb4d3e-8960-41e0-9c93-76913a395060",
   "metadata": {},
   "outputs": [],
   "source": [
    "folder_path = 'workbookdata'\n",
    "\n",
    "## CSV 파일로 저장\n",
    "# output_path = os.path.join(folder_path, 'ResultConstDF.csv')\n",
    "# const_df.to_csv(output_path, encoding='cp949')"
   ]
  },
  {
   "cell_type": "code",
   "execution_count": null,
   "id": "f4fce309-3075-45c0-9b6d-858e91b60abb",
   "metadata": {},
   "outputs": [],
   "source": [
    "메모리 비우기\n",
    "binList = []\n",
    "입찰공고token = []\n",
    "df = pd.DataFrame(binList)"
   ]
  }
 ],
 "metadata": {
  "kernelspec": {
   "display_name": "Python [conda env:base] *",
   "language": "python",
   "name": "conda-base-py"
  },
  "language_info": {
   "codemirror_mode": {
    "name": "ipython",
    "version": 3
   },
   "file_extension": ".py",
   "mimetype": "text/x-python",
   "name": "python",
   "nbconvert_exporter": "python",
   "pygments_lexer": "ipython3",
   "version": "3.13.5"
  }
 },
 "nbformat": 4,
 "nbformat_minor": 5
}
