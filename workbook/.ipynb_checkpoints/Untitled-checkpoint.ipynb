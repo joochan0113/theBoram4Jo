{
 "cells": [
  {
   "cell_type": "markdown",
   "id": "0e51e99a-1235-454a-b9da-fd0db89c1e25",
   "metadata": {},
   "source": [
    "공고기관명\n",
    "해군군수사령부      \n",
    "육군군수사령부      \n",
    "공군군수사령부       \n",
    "국군의무사령부       \n",
    "해군제3함대사령부      \n",
    "공군교육사령부        \n",
    "육군교육사령부        \n",
    "육군인사사령부        \n",
    "해군작전사령부        \n",
    "특수전사령부         \n",
    "수도방위사령부        \n",
    "제5군단사령부    \n",
    "\n",
    "- 유찰 등 결과별 개수\n",
    "\n",
    "- 낙찰 ~ 계약 \n"
   ]
  },
  {
   "cell_type": "code",
   "execution_count": 1,
   "id": "f58a2d8b-1d5d-47c4-815b-b0924f68f112",
   "metadata": {},
   "outputs": [
    {
     "name": "stderr",
     "output_type": "stream",
     "text": [
      "C:\\Users\\user\\AppData\\Local\\Temp\\ipykernel_19940\\4263699960.py:3: DtypeWarning: Columns (38,39,40,41,42,43,44,45) have mixed types. Specify dtype option on import or set low_memory=False.\n",
      "  start = pd.read_csv('D:/workspace/02_Crawling_Project/theBoram4Jo/data/방위사업청_국내조달 경쟁 입찰공고_20241031.csv', encoding='cp949')\n"
     ]
    }
   ],
   "source": [
    "import pandas as pd\n",
    "result = pd.read_csv('D:/workspace/02_Crawling_Project/theBoram4Jo/data/방위사업청_국내조달 경쟁 입찰결과_20241031.csv', encoding='cp949') \n",
    "start = pd.read_csv('D:/workspace/02_Crawling_Project/theBoram4Jo/data/방위사업청_국내조달 경쟁 입찰공고_20241031.csv', encoding='cp949')\n",
    "\n",
    "연도공고번호 = []\n",
    "\n",
    "for a, i in zip(result.개찰일자, result.입찰공고번호):\n",
    "    b = a.split('-')\n",
    "    c = b[0]\n",
    "    연도공고번호.append(c + i)\n",
    "\n",
    "result['연도공고번호'] = 연도공고번호\n"
   ]
  },
  {
   "cell_type": "code",
   "execution_count": null,
   "id": "bc9f6e1b-cc99-4766-914a-0923dcbb2cc3",
   "metadata": {},
   "outputs": [],
   "source": []
  }
 ],
 "metadata": {
  "kernelspec": {
   "display_name": "Python 3 (ipykernel)",
   "language": "python",
   "name": "python3"
  },
  "language_info": {
   "codemirror_mode": {
    "name": "ipython",
    "version": 3
   },
   "file_extension": ".py",
   "mimetype": "text/x-python",
   "name": "python",
   "nbconvert_exporter": "python",
   "pygments_lexer": "ipython3",
   "version": "3.13.5"
  }
 },
 "nbformat": 4,
 "nbformat_minor": 5
}
