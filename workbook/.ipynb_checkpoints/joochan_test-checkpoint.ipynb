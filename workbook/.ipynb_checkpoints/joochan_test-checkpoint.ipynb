{
 "cells": [
  {
   "cell_type": "code",
   "execution_count": 1,
   "id": "fa66f872-0f1c-40a4-863d-bb3eedfe195b",
   "metadata": {},
   "outputs": [],
   "source": [
    "from bs4 import BeautifulSoup\n",
    "import requests\n",
    "import numpy as np\n",
    "import pandas as pd\n",
    "from urllib.request import urlopen"
   ]
  },
  {
   "cell_type": "code",
   "execution_count": 2,
   "id": "9e41e9b8-c4ba-44a4-a96b-cc5edd63fd90",
   "metadata": {},
   "outputs": [],
   "source": [
    "def request_openAPI(page='1',\n",
    "                    perPage='20'):\n",
    "    serviceKey='416a0c4c87da58598c1fde059d56608bca0746c6d66fffb18def03dee40491a6'\n",
    "    base_url = 'https://api.odcloud.kr/api/15050920/v1/'\n",
    "\n",
    "    url = 'https://api.odcloud.kr/api/15050920/v1/uddi:416a0c4c87da58598c1fde059d56608bca0746c6d66fffb18def03dee40491a6?page=1&perPage=20&returnType=xml'\n",
    "\n",
    "\n",
    "\n",
    "    \n",
    "    xml = requests.get(url).text\n",
    "    soup = BeautifulSoup(xml, 'xml')\n",
    "    return soup"
   ]
  },
  {
   "cell_type": "code",
   "execution_count": 3,
   "id": "1d16af46-8594-4dea-b384-654dda666bdf",
   "metadata": {},
   "outputs": [
    {
     "name": "stdout",
     "output_type": "stream",
     "text": [
      "<?xml version=\"1.0\" encoding=\"utf-8\"?>\n",
      "\n"
     ]
    }
   ],
   "source": [
    "soup = request_openAPI()\n",
    "print(soup.prettify())"
   ]
  },
  {
   "cell_type": "code",
   "execution_count": null,
   "id": "9f504fa1-479d-46a9-979a-7b347ae17f7a",
   "metadata": {},
   "outputs": [],
   "source": []
  }
 ],
 "metadata": {
  "kernelspec": {
   "display_name": "Python [conda env:base] *",
   "language": "python",
   "name": "conda-base-py"
  },
  "language_info": {
   "codemirror_mode": {
    "name": "ipython",
    "version": 3
   },
   "file_extension": ".py",
   "mimetype": "text/x-python",
   "name": "python",
   "nbconvert_exporter": "python",
   "pygments_lexer": "ipython3",
   "version": "3.13.5"
  }
 },
 "nbformat": 4,
 "nbformat_minor": 5
}
