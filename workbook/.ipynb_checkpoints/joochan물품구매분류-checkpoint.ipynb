{
 "cells": [
  {
   "cell_type": "code",
   "execution_count": 7,
   "id": "18654fe5-8054-4763-83e6-0bcc38c7e501",
   "metadata": {},
   "outputs": [],
   "source": [
    "import pandas as pd\n",
    "import numpy as np\n",
    "import os\n",
    "import matplotlib.pyplot as plt\n",
    "import seaborn as sns\n",
    "from wordcloud import WordCloud\n",
    "from konlpy.tag import Okt, Kkma, Komoran\n",
    "from collections import Counter\n",
    "import pickle"
   ]
  },
  {
   "cell_type": "code",
   "execution_count": 5,
   "id": "64d656c3-0ded-4ffc-8652-03771a988902",
   "metadata": {},
   "outputs": [],
   "source": [
    "path = 'workbookdata/입찰결과물품_df.csv'\n",
    "입찰결과물품df = pd.read_csv(path, encoding='cp949')\n",
    "결과_입찰공고명 = 입찰결과물품df.입찰공고명"
   ]
  },
  {
   "cell_type": "code",
   "execution_count": 6,
   "id": "397bd68b-09f3-4936-babb-d5a279696d9f",
   "metadata": {},
   "outputs": [],
   "source": [
    "plt.rcParams['axes.unicode_minus'] = False\n",
    "plt.rcParams['font.family'] = 'Malgun Gothic'\n",
    "fontpath = 'C:/Windows/Fonts/malgun.ttf'"
   ]
  },
  {
   "cell_type": "code",
   "execution_count": null,
   "id": "f91808c1-515d-4c05-8175-b36d9f79ee0c",
   "metadata": {},
   "outputs": [],
   "source": [
    "tag_list = ['Noun','Verb']\n",
    "def tokenized(text_title, tag_list=['Noun']):\n",
    "    okt = Okt()\n",
    "    # 품사태깅 : 정규화, 어간추출 적용\n",
    "    token_tags = [okt.pos(text, norm=True, stem=True) for text in text_title]\n",
    "    \n",
    "    # 지정한 품사의 토큰만 추출 & 토큰길이 제한\n",
    "    token_list = []\n",
    "    for token_tag in token_tags:\n",
    "        result = []\n",
    "        for token, tag in token_tag:\n",
    "            if (len(token)>1) and (tag in tag_list):\n",
    "                result.append(token)\n",
    "        token_list.append(result)\n",
    "    return token_list\n",
    "\n",
    "def vocab_count_df(token_list):\n",
    "    tokens = np.hstack(token_list)\n",
    "    count = Counter(tokens)\n",
    "    cnt_df = pd.DataFrame(pd.Series(count), columns=['Freq'])\n",
    "    return cnt_df.sort_values(by='Freq', ascending=False)\n",
    "\n",
    "def word_counts(df, colname):\n",
    "    text_list = list(df[colname])\n",
    "    token_list = tokenized(text_list)\n",
    "    with open(f'data/{colname}_tokenlist.p','wb') as f:\n",
    "        pickle.dump(token_list, f)\n",
    "    return token_list, vocab_count_df(token_list)\n",
    "    "
   ]
  }
 ],
 "metadata": {
  "kernelspec": {
   "display_name": "Python [conda env:base] *",
   "language": "python",
   "name": "conda-base-py"
  },
  "language_info": {
   "codemirror_mode": {
    "name": "ipython",
    "version": 3
   },
   "file_extension": ".py",
   "mimetype": "text/x-python",
   "name": "python",
   "nbconvert_exporter": "python",
   "pygments_lexer": "ipython3",
   "version": "3.13.5"
  }
 },
 "nbformat": 4,
 "nbformat_minor": 5
}
