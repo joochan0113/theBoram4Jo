{
 "cells": [
  {
   "cell_type": "code",
   "execution_count": 1,
   "id": "9ff2bb34-2216-4bdf-8287-0d7e4ebc9947",
   "metadata": {},
   "outputs": [],
   "source": [
    "import pandas as pd\n",
    "import numpy as np\n",
    "import os"
   ]
  },
  {
   "cell_type": "code",
   "execution_count": 2,
   "id": "68686518-834e-435d-b02d-086388361d58",
   "metadata": {},
   "outputs": [
    {
     "data": {
      "text/plain": [
       "'C:\\\\workspaces\\\\02_Crawling_TeamProject\\\\theBoram4Jo\\\\workbook'"
      ]
     },
     "execution_count": 2,
     "metadata": {},
     "output_type": "execute_result"
    }
   ],
   "source": [
    "path = os.getcwd()\n",
    "pathF = 'C:\\\\workspaces\\\\02_Crawling_TeamProject\\\\theBoram4Jo\\\\data'\n",
    "path"
   ]
  },
  {
   "cell_type": "code",
   "execution_count": 28,
   "id": "218529d7-15b7-4eec-b683-0962d2590621",
   "metadata": {},
   "outputs": [
    {
     "name": "stdout",
     "output_type": "stream",
     "text": [
      "계약정보_df 로드 완료 (shape: (62751, 29))\n",
      "입찰참여업체_df 로드 완료 (shape: (176021, 3))\n",
      "입찰결과_df 로드 완료 (shape: (74678, 27))\n",
      "입찰공고_df 로드 완료 (shape: (112236, 47))\n"
     ]
    }
   ],
   "source": [
    "folder = '../data/'  # 상대 경로 유지\n",
    "files = [f for f in os.listdir(folder) if f.lower().endswith(\".csv\")]\n",
    "files.sort()\n",
    "fn_lst = ['계약정보', '입찰참여업체', '입찰결과', '입찰공고']\n",
    "assert len(files) == len(fn_lst)\n",
    "for i in range(len(files)):\n",
    "    path = os.path.join(folder, files[i])    \n",
    "    enc = \"utf-8-sig\" if \"계약정보\" in files[i] else \"cp949\"\n",
    "    \n",
    "    try:\n",
    "        df = pd.read_csv(path, encoding=enc, low_memory=False)\n",
    "    except UnicodeDecodeError:\n",
    "        enc = \"cp949\" if enc == \"utf-8-sig\" else \"utf-8-sig\"\n",
    "        df = pd.read_csv(path, encoding=enc, low_memory=False)\n",
    "\n",
    "    var_name = f\"{fn_lst[i]}_df\"\n",
    "    globals()[var_name] = df\n",
    "    globals()[f\"{var_name}_colName\"] = df.columns\n",
    "    print(f\"{var_name} 로드 완료 (shape: {df.shape})\")"
   ]
  },
  {
   "cell_type": "code",
   "execution_count": 29,
   "id": "311ab056-7628-4543-8817-0411f62d0724",
   "metadata": {},
   "outputs": [
    {
     "data": {
      "text/plain": [
       "Index(['계약금액', '계약기간 (시작)', '계약기간 (마감)', '계약기관구분명', '계약기관담당부서명', '계약기관담당자명',\n",
       "       '계약기관명', '계약명', '계약번호', '계약유형', '계약차수', '계약체결방법명', '계약체결일자', '계약체결형태명',\n",
       "       '공동계약여부', '국내업체여부', '대표업체대표자명', '대표업체명', '대표업체사업자등록번호', '대표업체주소',\n",
       "       '물가변동계약금액조정방법', '수요기관구분명', '수요기관담당부서명', '수요기관담당자명', '수요기관명', '수의계약사유',\n",
       "       '업무구분명', '예정가격', '총계약금액'],\n",
       "      dtype='object')"
      ]
     },
     "execution_count": 29,
     "metadata": {},
     "output_type": "execute_result"
    }
   ],
   "source": [
    "계약정보_df_colName"
   ]
  },
  {
   "cell_type": "code",
   "execution_count": 23,
   "id": "06d7227a-5596-4bc7-9af1-4334307f108c",
   "metadata": {},
   "outputs": [
    {
     "data": {
      "text/plain": [
       "Index(['순번', '업체명', '대표자'], dtype='object')"
      ]
     },
     "execution_count": 23,
     "metadata": {},
     "output_type": "execute_result"
    }
   ],
   "source": [
    "입찰참여업체_df.columns"
   ]
  },
  {
   "cell_type": "code",
   "execution_count": null,
   "id": "979083d5-f32e-44df-b222-fdf72df295a4",
   "metadata": {},
   "outputs": [],
   "source": []
  }
 ],
 "metadata": {
  "kernelspec": {
   "display_name": "Python [conda env:base] *",
   "language": "python",
   "name": "conda-base-py"
  },
  "language_info": {
   "codemirror_mode": {
    "name": "ipython",
    "version": 3
   },
   "file_extension": ".py",
   "mimetype": "text/x-python",
   "name": "python",
   "nbconvert_exporter": "python",
   "pygments_lexer": "ipython3",
   "version": "3.13.5"
  }
 },
 "nbformat": 4,
 "nbformat_minor": 5
}
