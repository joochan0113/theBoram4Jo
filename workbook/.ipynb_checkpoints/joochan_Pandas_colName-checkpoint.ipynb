{
 "cells": [
  {
   "cell_type": "code",
   "execution_count": 10,
   "id": "9ff2bb34-2216-4bdf-8287-0d7e4ebc9947",
   "metadata": {},
   "outputs": [],
   "source": [
    "import pandas as pd\n",
    "import numpy as np\n",
    "import os"
   ]
  },
  {
   "cell_type": "code",
   "execution_count": 12,
   "id": "68686518-834e-435d-b02d-086388361d58",
   "metadata": {},
   "outputs": [
    {
     "data": {
      "text/plain": [
       "'C:\\\\workspaces\\\\02_Crawling_TeamProject\\\\theBoram4Jo\\\\workbook'"
      ]
     },
     "execution_count": 12,
     "metadata": {},
     "output_type": "execute_result"
    }
   ],
   "source": [
    "path = os.getcwd()\n",
    "pathF = 'C:\\\\workspaces\\\\02_Crawling_TeamProject\\\\theBoram4Jo\\\\data'\n",
    "path"
   ]
  },
  {
   "cell_type": "code",
   "execution_count": 26,
   "id": "82ed75de-b579-4355-b76d-2442dc401f26",
   "metadata": {},
   "outputs": [
    {
     "ename": "TypeError",
     "evalue": "'int' object is not iterable",
     "output_type": "error",
     "traceback": [
      "\u001b[1;31m---------------------------------------------------------------------------\u001b[0m",
      "\u001b[1;31mTypeError\u001b[0m                                 Traceback (most recent call last)",
      "Cell \u001b[1;32mIn[26], line 5\u001b[0m\n\u001b[0;32m      2\u001b[0m files \u001b[38;5;241m=\u001b[39m [f \u001b[38;5;28;01mfor\u001b[39;00m f \u001b[38;5;129;01min\u001b[39;00m os\u001b[38;5;241m.\u001b[39mlistdir(folder) \u001b[38;5;28;01mif\u001b[39;00m f\u001b[38;5;241m.\u001b[39mlower()\u001b[38;5;241m.\u001b[39mendswith(\u001b[38;5;124m\"\u001b[39m\u001b[38;5;124m.csv\u001b[39m\u001b[38;5;124m\"\u001b[39m)]\n\u001b[0;32m      3\u001b[0m fn_lst \u001b[38;5;241m=\u001b[39m [\u001b[38;5;124m'\u001b[39m\u001b[38;5;124m계약정보_df\u001b[39m\u001b[38;5;124m'\u001b[39m,\u001b[38;5;124m'\u001b[39m\u001b[38;5;124m입찰참여업체_df\u001b[39m\u001b[38;5;124m'\u001b[39m,\u001b[38;5;124m'\u001b[39m\u001b[38;5;124m입찰결과_df\u001b[39m\u001b[38;5;124m'\u001b[39m,\u001b[38;5;124m'\u001b[39m\u001b[38;5;124m입찰공고_df\u001b[39m\u001b[38;5;124m'\u001b[39m]\n\u001b[1;32m----> 5\u001b[0m \u001b[38;5;28;01mfor\u001b[39;00m i \u001b[38;5;129;01min\u001b[39;00m \u001b[38;5;28mlen\u001b[39m(files):\n\u001b[0;32m      6\u001b[0m     fn_lst[i] \u001b[38;5;241m=\u001b[39m pd\u001b[38;5;241m.\u001b[39mread_csv(folder\u001b[38;5;241m+\u001b[39mfiles[i], \u001b[38;5;124m\"\u001b[39m\u001b[38;5;124mcp949\u001b[39m\u001b[38;5;124m\"\u001b[39m)\n",
      "\u001b[1;31mTypeError\u001b[0m: 'int' object is not iterable"
     ]
    }
   ],
   "source": [
    "folder = 'C:/workspaces/02_Crawling_TeamProject/theBoram4Jo/data/'\n",
    "files = [f for f in os.listdir(folder) if f.lower().endswith(\".csv\")]\n",
    "fn_lst = ['계약정보_df','입찰참여업체_df','입찰결과_df','입찰공고_df']\n",
    "\n",
    "for i in len(files):\n",
    "    fn_lst[i] = pd.read_csv(folder+files[i], \"cp949\")\n",
    "\n",
    "\n",
    "\n",
    "# a_df = pd.read_csv('C:/workspaces/02_Crawling_TeamProject/theBoram4Jo/data/'\n",
    "\n",
    "#                    방위사업청_국내조달 경쟁 입찰결과_20241031.csv', encoding=\"cp949\")\n",
    "# a_df.head()"
   ]
  },
  {
   "cell_type": "code",
   "execution_count": 45,
   "id": "3f029aae-e5f3-4c4a-914f-77f614bd7def",
   "metadata": {},
   "outputs": [
    {
     "name": "stderr",
     "output_type": "stream",
     "text": [
      "C:\\Users\\jooch\\AppData\\Local\\Temp\\ipykernel_13728\\470052702.py:21: DtypeWarning: Columns (38,39,40,41,42,43,44,45) have mixed types. Specify dtype option on import or set low_memory=False.\n",
      "  df = pd.read_csv(path, encoding=chosen)\n"
     ]
    }
   ],
   "source": [
    "folder = r\"C:/workspaces/02_Crawling_TeamProject/theBoram4Jo/data/\"\n",
    "files = [f for f in os.listdir(folder) if f.lower().endswith(\".csv\")]\n",
    "files.sort()\n",
    "\n",
    "enc_candidates = [\"cp949\", \"utf-8-sig\"]\n",
    "\n",
    "for i, fname in enumerate(files):\n",
    "    path = os.path.join(folder, fname)\n",
    "    chosen = None\n",
    "    # 1단계 인코딩 탐색은 헤더만 읽어서 가볍게 검사\n",
    "    for enc in enc_candidates:\n",
    "        try:\n",
    "            pd.read_csv(path, nrows=0, encoding=enc)\n",
    "            chosen = enc\n",
    "            break\n",
    "        except Exception:\n",
    "            continue\n",
    "\n",
    "    # 2단계 선택한 인코딩으로 전체 로드\n",
    "    try:\n",
    "        df = pd.read_csv(path, encoding=chosen)\n",
    "        var_name = fn_lst[i]\n",
    "        globals()[var_name] = df       # 동적 변수 생성\n",
    "    except Exception as e:\n",
    "        failed.append((i, fname))\n"
   ]
  },
  {
   "cell_type": "code",
   "execution_count": 33,
   "id": "1f683b5d-ded2-4778-a0d2-9566309ef5d2",
   "metadata": {},
   "outputs": [
    {
     "data": {
      "text/plain": [
       "Index(['계약금액', '계약기간 (시작)', '계약기간 (마감)', '계약기관구분명', '계약기관담당부서명', '계약기관담당자명',\n",
       "       '계약기관명', '계약명', '계약번호', '계약유형', '계약차수', '계약체결방법명', '계약체결일자', '계약체결형태명',\n",
       "       '공동계약여부', '국내업체여부', '대표업체대표자명', '대표업체명', '대표업체사업자등록번호', '대표업체주소',\n",
       "       '물가변동계약금액조정방법', '수요기관구분명', '수요기관담당부서명', '수요기관담당자명', '수요기관명', '수의계약사유',\n",
       "       '업무구분명', '예정가격', '총계약금액'],\n",
       "      dtype='object')"
      ]
     },
     "execution_count": 33,
     "metadata": {},
     "output_type": "execute_result"
    }
   ],
   "source": [
    "계약정보_df.column"
   ]
  },
  {
   "cell_type": "code",
   "execution_count": null,
   "id": "979083d5-f32e-44df-b222-fdf72df295a4",
   "metadata": {},
   "outputs": [],
   "source": []
  }
 ],
 "metadata": {
  "kernelspec": {
   "display_name": "Python [conda env:base] *",
   "language": "python",
   "name": "conda-base-py"
  },
  "language_info": {
   "codemirror_mode": {
    "name": "ipython",
    "version": 3
   },
   "file_extension": ".py",
   "mimetype": "text/x-python",
   "name": "python",
   "nbconvert_exporter": "python",
   "pygments_lexer": "ipython3",
   "version": "3.13.5"
  }
 },
 "nbformat": 4,
 "nbformat_minor": 5
}
