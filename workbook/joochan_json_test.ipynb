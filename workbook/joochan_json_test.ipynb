{
 "cells": [
  {
   "cell_type": "markdown",
   "id": "5966ec28",
   "metadata": {},
   "source": [
    "# 2024.10.31 입찰참여정보"
   ]
  },
  {
   "cell_type": "code",
   "execution_count": 2,
   "id": "324b9c6a-6164-4d0d-b5e6-7c17f5a03699",
   "metadata": {},
   "outputs": [],
   "source": [
    "from bs4 import BeautifulSoup\n",
    "import requests\n",
    "import numpy as np\n",
    "import pandas as pd\n",
    "import json\n",
    "from urllib.request import urlopen"
   ]
  },
  {
   "cell_type": "code",
   "execution_count": 13,
   "id": "af38e332-92be-4ed6-a29d-d313588755fd",
   "metadata": {},
   "outputs": [
    {
     "name": "stdout",
     "output_type": "stream",
     "text": [
      "page1: https://api.odcloud.kr/api/15050921/v1/uddi:3b739b71-cda8-4eba-9730-ba897be8c248?serviceKey=416a0c4c87da58598c1fde059d56608bca0746c6d66fffb18def03dee40491a6&page=1&perPage=100&returnType=xml\n",
      "page2: https://api.odcloud.kr/api/15050921/v1/uddi:3b739b71-cda8-4eba-9730-ba897be8c248?serviceKey=416a0c4c87da58598c1fde059d56608bca0746c6d66fffb18def03dee40491a6&page=2&perPage=100&returnType=xml\n",
      "page3: https://api.odcloud.kr/api/15050921/v1/uddi:3b739b71-cda8-4eba-9730-ba897be8c248?serviceKey=416a0c4c87da58598c1fde059d56608bca0746c6d66fffb18def03dee40491a6&page=3&perPage=100&returnType=xml\n",
      "page4: https://api.odcloud.kr/api/15050921/v1/uddi:3b739b71-cda8-4eba-9730-ba897be8c248?serviceKey=416a0c4c87da58598c1fde059d56608bca0746c6d66fffb18def03dee40491a6&page=4&perPage=100&returnType=xml\n"
     ]
    }
   ],
   "source": [
    "base_url     = 'https://api.odcloud.kr/api/'\n",
    "service_name = '15050921/v1/uddi:3b739b71-cda8-4eba-9730-ba897be8c248'\n",
    "perPage      = '100'\n",
    "returnType   = 'xml'\n",
    "serviceKey   = '416a0c4c87da58598c1fde059d56608bca0746c6d66fffb18def03dee40491a6'\n",
    "\n",
    "# 총 데이터 건 / 50,000 = X+1\n",
    "for page_num in range(1, 5):\n",
    "    url = f'{base_url}{service_name}?serviceKey={serviceKey}&page={page_num}&perPage={perPage}&returnType={returnType}'\n",
    "    \n",
    "    print(f\"page{page_num}: {url}\")"
   ]
  },
  {
   "cell_type": "code",
   "execution_count": 14,
   "id": "d755bada",
   "metadata": {},
   "outputs": [],
   "source": [
    "#Total: 176021\n",
    "\n",
    "page1 = 'https://api.odcloud.kr/api/15050921/v1/uddi:3b739b71-cda8-4eba-9730-ba897be8c248?serviceKey=416a0c4c87da58598c1fde059d56608bca0746c6d66fffb18def03dee40491a6&page=1&perPage=50000&returnType=json'\n",
    "page2 = 'https://api.odcloud.kr/api/15050921/v1/uddi:3b739b71-cda8-4eba-9730-ba897be8c248?serviceKey=416a0c4c87da58598c1fde059d56608bca0746c6d66fffb18def03dee40491a6&page=2&perPage=50000&returnType=json'\n",
    "page3 = 'https://api.odcloud.kr/api/15050921/v1/uddi:3b739b71-cda8-4eba-9730-ba897be8c248?serviceKey=416a0c4c87da58598c1fde059d56608bca0746c6d66fffb18def03dee40491a6&page=3&perPage=50000&returnType=json'\n",
    "page4 = 'https://api.odcloud.kr/api/15050921/v1/uddi:3b739b71-cda8-4eba-9730-ba897be8c248?serviceKey=416a0c4c87da58598c1fde059d56608bca0746c6d66fffb18def03dee40491a6&page=4&perPage=50000&returnType=json'\n"
   ]
  },
  {
   "cell_type": "code",
   "execution_count": 9,
   "id": "05384865",
   "metadata": {
    "scrolled": true
   },
   "outputs": [
    {
     "name": "stdout",
     "output_type": "stream",
     "text": [
      "https://api.odcloud.kr/api/15050920/v1/uddi:aae84b1a-927c-44ae-9884-fc95d49ba389?page=1&perPage=3000&returnType=json&serviceKey=416a0c4c87da58598c1fde059d56608bca0746c6d66fffb18def03dee40491a6\n"
     ]
    },
    {
     "name": "stderr",
     "output_type": "stream",
     "text": [
      "C:\\Users\\jooch\\anaconda3\\Lib\\site-packages\\urllib3\\connectionpool.py:1097: InsecureRequestWarning: Unverified HTTPS request is being made to host 'api.odcloud.kr'. Adding certificate verification is strongly advised. See: https://urllib3.readthedocs.io/en/latest/advanced-usage.html#tls-warnings\n",
      "  warnings.warn(\n",
      "C:\\Users\\jooch\\anaconda3\\Lib\\site-packages\\urllib3\\connectionpool.py:1097: InsecureRequestWarning: Unverified HTTPS request is being made to host 'api.odcloud.kr'. Adding certificate verification is strongly advised. See: https://urllib3.readthedocs.io/en/latest/advanced-usage.html#tls-warnings\n",
      "  warnings.warn(\n",
      "C:\\Users\\jooch\\anaconda3\\Lib\\site-packages\\urllib3\\connectionpool.py:1097: InsecureRequestWarning: Unverified HTTPS request is being made to host 'api.odcloud.kr'. Adding certificate verification is strongly advised. See: https://urllib3.readthedocs.io/en/latest/advanced-usage.html#tls-warnings\n",
      "  warnings.warn(\n",
      "C:\\Users\\jooch\\anaconda3\\Lib\\site-packages\\urllib3\\connectionpool.py:1097: InsecureRequestWarning: Unverified HTTPS request is being made to host 'api.odcloud.kr'. Adding certificate verification is strongly advised. See: https://urllib3.readthedocs.io/en/latest/advanced-usage.html#tls-warnings\n",
      "  warnings.warn(\n",
      "C:\\Users\\jooch\\anaconda3\\Lib\\site-packages\\urllib3\\connectionpool.py:1097: InsecureRequestWarning: Unverified HTTPS request is being made to host 'api.odcloud.kr'. Adding certificate verification is strongly advised. See: https://urllib3.readthedocs.io/en/latest/advanced-usage.html#tls-warnings\n",
      "  warnings.warn(\n",
      "C:\\Users\\jooch\\anaconda3\\Lib\\site-packages\\urllib3\\connectionpool.py:1097: InsecureRequestWarning: Unverified HTTPS request is being made to host 'api.odcloud.kr'. Adding certificate verification is strongly advised. See: https://urllib3.readthedocs.io/en/latest/advanced-usage.html#tls-warnings\n",
      "  warnings.warn(\n",
      "C:\\Users\\jooch\\anaconda3\\Lib\\site-packages\\urllib3\\connectionpool.py:1097: InsecureRequestWarning: Unverified HTTPS request is being made to host 'api.odcloud.kr'. Adding certificate verification is strongly advised. See: https://urllib3.readthedocs.io/en/latest/advanced-usage.html#tls-warnings\n",
      "  warnings.warn(\n",
      "C:\\Users\\jooch\\anaconda3\\Lib\\site-packages\\urllib3\\connectionpool.py:1097: InsecureRequestWarning: Unverified HTTPS request is being made to host 'api.odcloud.kr'. Adding certificate verification is strongly advised. See: https://urllib3.readthedocs.io/en/latest/advanced-usage.html#tls-warnings\n",
      "  warnings.warn(\n",
      "C:\\Users\\jooch\\anaconda3\\Lib\\site-packages\\urllib3\\connectionpool.py:1097: InsecureRequestWarning: Unverified HTTPS request is being made to host 'api.odcloud.kr'. Adding certificate verification is strongly advised. See: https://urllib3.readthedocs.io/en/latest/advanced-usage.html#tls-warnings\n",
      "  warnings.warn(\n",
      "C:\\Users\\jooch\\anaconda3\\Lib\\site-packages\\urllib3\\connectionpool.py:1097: InsecureRequestWarning: Unverified HTTPS request is being made to host 'api.odcloud.kr'. Adding certificate verification is strongly advised. See: https://urllib3.readthedocs.io/en/latest/advanced-usage.html#tls-warnings\n",
      "  warnings.warn(\n",
      "C:\\Users\\jooch\\anaconda3\\Lib\\site-packages\\urllib3\\connectionpool.py:1097: InsecureRequestWarning: Unverified HTTPS request is being made to host 'api.odcloud.kr'. Adding certificate verification is strongly advised. See: https://urllib3.readthedocs.io/en/latest/advanced-usage.html#tls-warnings\n",
      "  warnings.warn(\n",
      "C:\\Users\\jooch\\anaconda3\\Lib\\site-packages\\urllib3\\connectionpool.py:1097: InsecureRequestWarning: Unverified HTTPS request is being made to host 'api.odcloud.kr'. Adding certificate verification is strongly advised. See: https://urllib3.readthedocs.io/en/latest/advanced-usage.html#tls-warnings\n",
      "  warnings.warn(\n",
      "C:\\Users\\jooch\\anaconda3\\Lib\\site-packages\\urllib3\\connectionpool.py:1097: InsecureRequestWarning: Unverified HTTPS request is being made to host 'api.odcloud.kr'. Adding certificate verification is strongly advised. See: https://urllib3.readthedocs.io/en/latest/advanced-usage.html#tls-warnings\n",
      "  warnings.warn(\n",
      "C:\\Users\\jooch\\anaconda3\\Lib\\site-packages\\urllib3\\connectionpool.py:1097: InsecureRequestWarning: Unverified HTTPS request is being made to host 'api.odcloud.kr'. Adding certificate verification is strongly advised. See: https://urllib3.readthedocs.io/en/latest/advanced-usage.html#tls-warnings\n",
      "  warnings.warn(\n",
      "C:\\Users\\jooch\\anaconda3\\Lib\\site-packages\\urllib3\\connectionpool.py:1097: InsecureRequestWarning: Unverified HTTPS request is being made to host 'api.odcloud.kr'. Adding certificate verification is strongly advised. See: https://urllib3.readthedocs.io/en/latest/advanced-usage.html#tls-warnings\n",
      "  warnings.warn(\n",
      "C:\\Users\\jooch\\anaconda3\\Lib\\site-packages\\urllib3\\connectionpool.py:1097: InsecureRequestWarning: Unverified HTTPS request is being made to host 'api.odcloud.kr'. Adding certificate verification is strongly advised. See: https://urllib3.readthedocs.io/en/latest/advanced-usage.html#tls-warnings\n",
      "  warnings.warn(\n",
      "C:\\Users\\jooch\\anaconda3\\Lib\\site-packages\\urllib3\\connectionpool.py:1097: InsecureRequestWarning: Unverified HTTPS request is being made to host 'api.odcloud.kr'. Adding certificate verification is strongly advised. See: https://urllib3.readthedocs.io/en/latest/advanced-usage.html#tls-warnings\n",
      "  warnings.warn(\n",
      "C:\\Users\\jooch\\anaconda3\\Lib\\site-packages\\urllib3\\connectionpool.py:1097: InsecureRequestWarning: Unverified HTTPS request is being made to host 'api.odcloud.kr'. Adding certificate verification is strongly advised. See: https://urllib3.readthedocs.io/en/latest/advanced-usage.html#tls-warnings\n",
      "  warnings.warn(\n",
      "C:\\Users\\jooch\\anaconda3\\Lib\\site-packages\\urllib3\\connectionpool.py:1097: InsecureRequestWarning: Unverified HTTPS request is being made to host 'api.odcloud.kr'. Adding certificate verification is strongly advised. See: https://urllib3.readthedocs.io/en/latest/advanced-usage.html#tls-warnings\n",
      "  warnings.warn(\n",
      "C:\\Users\\jooch\\anaconda3\\Lib\\site-packages\\urllib3\\connectionpool.py:1097: InsecureRequestWarning: Unverified HTTPS request is being made to host 'api.odcloud.kr'. Adding certificate verification is strongly advised. See: https://urllib3.readthedocs.io/en/latest/advanced-usage.html#tls-warnings\n",
      "  warnings.warn(\n"
     ]
    },
    {
     "name": "stdout",
     "output_type": "stream",
     "text": [
      "\n",
      "✅ 데이터 수집 완료! 총 60000개의 업체 정보가 저장되었습니다.\n"
     ]
    }
   ],
   "source": [
    "base_url = 'https://api.odcloud.kr/api/'\n",
    "service_name = '15050920/v1/uddi:aae84b1a-927c-44ae-9884-fc95d49ba389'\n",
    "serviceKey = '416a0c4c87da58598c1fde059d56608bca0746c6d66fffb18def03dee40491a6'\n",
    "\n",
    "# url = f'{base_url}{service_name}?page={page}&perPage={perPage}&returnType={returnType}&serviceKey={serviceKey}'  \n",
    "\n",
    "###\n",
    "base_url     = 'https://api.odcloud.kr/api/'\n",
    "service_name = '15050920/v1/uddi:aae84b1a-927c-44ae-9884-fc95d49ba389'\n",
    "page_num = 1\n",
    "perPage = 3000\n",
    "returnType   = 'json'\n",
    "serviceKey   = '416a0c4c87da58598c1fde059d56608bca0746c6d66fffb18def03dee40491a6'\n",
    "###\n",
    "print(f'{base_url}{service_name}?page={page_num}&perPage={perPage}&returnType={returnType}&serviceKey={serviceKey}')\n",
    "# 62751\n",
    "company_list = []\n",
    "for page_num in range(1, 22):\n",
    "    # 각 페이지에 맞는 요청 파라미터를 설정합니다 (returnType='json').\n",
    "    params = {\n",
    "        'serviceKey': serviceKey,\n",
    "        'page': page_num,\n",
    "        'perPage': 3000, \n",
    "        'returnType': 'json'\n",
    "    }\n",
    "\n",
    "\n",
    "    try:\n",
    "        response = requests.get(f'{base_url}{service_name}', params=params, verify=False)\n",
    "        data = response.json()\n",
    "        \n",
    "        if 'data' in data and data['data']:\n",
    "            company_list.extend(data['data'])\n",
    "\n",
    "    except requests.exceptions.RequestException as e:\n",
    "        print(f\"{page_num} 페이지 요청 중 오류가 발생했습니다: {e}\")\n",
    "        break\n",
    "\n",
    "print(f\"\\n✅ 데이터 수집 완료! 총 {len(company_list)}개의 업체 정보가 저장되었습니다.\")"
   ]
  },
  {
   "cell_type": "code",
   "execution_count": 14,
   "id": "a36c9e34-0c8f-420b-b90e-b4722fe78225",
   "metadata": {},
   "outputs": [],
   "source": [
    "df = pd.DataFrame(company_list)\n",
    "df.head()\n",
    "\n",
    "from pathlib import Path\n",
    "\n",
    "out_path = Path(r\"C:\\workspaces\\02_Crawling_TeamProject\\theBoram4Jo\\data\\계약정보test.csv\")\n",
    "out_path.parent.mkdir(parents=True, exist_ok=True)\n",
    "\n",
    "df.to_csv(out_path, index=False, encoding=\"utf-8-sig\")\n",
    "# from pathlib import Path\n",
    "\n",
    "# Path(\"data\").mkdir(parents=True, exist_ok=True)          # data 폴더 없으면 생성\n",
    "# out_path = Path(\"C:\\workspaces\\02_Crawling_TeamProject\\theBoram4Jo\\data\") / \"계약정보test.csv\"              # 저장 경로\n",
    "# df.to_csv(out_path, index=False, encoding=\"utf-8-sig\")   # 한글 엑셀 호환\n",
    "# print(out_path.resolve())"
   ]
  },
  {
   "cell_type": "code",
   "execution_count": null,
   "id": "a18f1004-c050-4c19-b0e4-7dd90ab47286",
   "metadata": {},
   "outputs": [],
   "source": []
  }
 ],
 "metadata": {
  "kernelspec": {
   "display_name": "Python [conda env:base] *",
   "language": "python",
   "name": "conda-base-py"
  },
  "language_info": {
   "codemirror_mode": {
    "name": "ipython",
    "version": 3
   },
   "file_extension": ".py",
   "mimetype": "text/x-python",
   "name": "python",
   "nbconvert_exporter": "python",
   "pygments_lexer": "ipython3",
   "version": "3.13.5"
  }
 },
 "nbformat": 4,
 "nbformat_minor": 5
}
