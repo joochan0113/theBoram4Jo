{
 "cells": [
  {
   "cell_type": "markdown",
   "id": "5966ec28",
   "metadata": {},
   "source": [
    "# 2024.10.31 입찰참여정보"
   ]
  },
  {
   "cell_type": "code",
   "execution_count": 1,
   "id": "324b9c6a-6164-4d0d-b5e6-7c17f5a03699",
   "metadata": {},
   "outputs": [],
   "source": [
    "from bs4 import BeautifulSoup\n",
    "import requests\n",
    "import numpy as np\n",
    "import pandas as pd\n",
    "import json\n",
    "from urllib.request import urlopen"
   ]
  },
  {
   "cell_type": "code",
   "execution_count": 13,
   "id": "af38e332-92be-4ed6-a29d-d313588755fd",
   "metadata": {},
   "outputs": [
    {
     "name": "stdout",
     "output_type": "stream",
     "text": [
      "page1: https://api.odcloud.kr/api/15050921/v1/uddi:3b739b71-cda8-4eba-9730-ba897be8c248?serviceKey=416a0c4c87da58598c1fde059d56608bca0746c6d66fffb18def03dee40491a6&page=1&perPage=100&returnType=xml\n",
      "page2: https://api.odcloud.kr/api/15050921/v1/uddi:3b739b71-cda8-4eba-9730-ba897be8c248?serviceKey=416a0c4c87da58598c1fde059d56608bca0746c6d66fffb18def03dee40491a6&page=2&perPage=100&returnType=xml\n",
      "page3: https://api.odcloud.kr/api/15050921/v1/uddi:3b739b71-cda8-4eba-9730-ba897be8c248?serviceKey=416a0c4c87da58598c1fde059d56608bca0746c6d66fffb18def03dee40491a6&page=3&perPage=100&returnType=xml\n",
      "page4: https://api.odcloud.kr/api/15050921/v1/uddi:3b739b71-cda8-4eba-9730-ba897be8c248?serviceKey=416a0c4c87da58598c1fde059d56608bca0746c6d66fffb18def03dee40491a6&page=4&perPage=100&returnType=xml\n"
     ]
    }
   ],
   "source": [
    "base_url     = 'https://api.odcloud.kr/api/'\n",
    "service_name = '15050921/v1/uddi:3b739b71-cda8-4eba-9730-ba897be8c248'\n",
    "perPage      = '100'\n",
    "returnType   = 'xml'\n",
    "serviceKey   = '416a0c4c87da58598c1fde059d56608bca0746c6d66fffb18def03dee40491a6'\n",
    "\n",
    "# 총 데이터 건 / 50,000 = X+1\n",
    "for page_num in range(1, 5):\n",
    "    url = f'{base_url}{service_name}?serviceKey={serviceKey}&page={page_num}&perPage={perPage}&returnType={returnType}'\n",
    "    \n",
    "    print(f\"page{page_num}: {url}\")"
   ]
  },
  {
   "cell_type": "code",
   "execution_count": 14,
   "id": "d755bada",
   "metadata": {},
   "outputs": [],
   "source": [
    "#Total: 176021\n",
    "\n",
    "page1 = 'https://api.odcloud.kr/api/15050921/v1/uddi:3b739b71-cda8-4eba-9730-ba897be8c248?serviceKey=416a0c4c87da58598c1fde059d56608bca0746c6d66fffb18def03dee40491a6&page=1&perPage=50000&returnType=json'\n",
    "page2 = 'https://api.odcloud.kr/api/15050921/v1/uddi:3b739b71-cda8-4eba-9730-ba897be8c248?serviceKey=416a0c4c87da58598c1fde059d56608bca0746c6d66fffb18def03dee40491a6&page=2&perPage=50000&returnType=json'\n",
    "page3 = 'https://api.odcloud.kr/api/15050921/v1/uddi:3b739b71-cda8-4eba-9730-ba897be8c248?serviceKey=416a0c4c87da58598c1fde059d56608bca0746c6d66fffb18def03dee40491a6&page=3&perPage=50000&returnType=json'\n",
    "page4 = 'https://api.odcloud.kr/api/15050921/v1/uddi:3b739b71-cda8-4eba-9730-ba897be8c248?serviceKey=416a0c4c87da58598c1fde059d56608bca0746c6d66fffb18def03dee40491a6&page=4&perPage=50000&returnType=json'\n"
   ]
  },
  {
   "cell_type": "code",
   "execution_count": 15,
   "id": "926869ec",
   "metadata": {},
   "outputs": [
    {
     "ename": "NameError",
     "evalue": "name 'response' is not defined",
     "output_type": "error",
     "traceback": [
      "\u001b[1;31m---------------------------------------------------------------------------\u001b[0m",
      "\u001b[1;31mNameError\u001b[0m                                 Traceback (most recent call last)",
      "Cell \u001b[1;32mIn[15], line 2\u001b[0m\n\u001b[0;32m      1\u001b[0m xml \u001b[38;5;241m=\u001b[39m requests\u001b[38;5;241m.\u001b[39mget(page1)\u001b[38;5;241m.\u001b[39mtext\n\u001b[1;32m----> 2\u001b[0m data \u001b[38;5;241m=\u001b[39m response\u001b[38;5;241m.\u001b[39mjson()   \n\u001b[0;32m      3\u001b[0m company_list1 \u001b[38;5;241m=\u001b[39m data[\u001b[38;5;124m'\u001b[39m\u001b[38;5;124mdata\u001b[39m\u001b[38;5;124m'\u001b[39m]\n\u001b[0;32m      5\u001b[0m \u001b[38;5;28;01mfor\u001b[39;00m company \u001b[38;5;129;01min\u001b[39;00m company_list:\n",
      "\u001b[1;31mNameError\u001b[0m: name 'response' is not defined"
     ]
    }
   ],
   "source": [
    "xml = requests.get(page1).text\n",
    "data = response.json()   \n",
    "company_list1 = data['data']\n",
    "\n",
    "for company in company_list:\n",
    "    representative = company['대표자']\n",
    "    company_name = company['업체명']\n",
    "\n",
    "    print(f\"업체명: {company_name}\")\n",
    "    print(f\"대표자: {representative}\\n\")"
   ]
  },
  {
   "cell_type": "code",
   "execution_count": 2,
   "id": "05384865",
   "metadata": {
    "scrolled": true
   },
   "outputs": [
    {
     "name": "stderr",
     "output_type": "stream",
     "text": [
      "C:\\Users\\jooch\\anaconda3\\Lib\\site-packages\\urllib3\\connectionpool.py:1097: InsecureRequestWarning: Unverified HTTPS request is being made to host 'api.odcloud.kr'. Adding certificate verification is strongly advised. See: https://urllib3.readthedocs.io/en/latest/advanced-usage.html#tls-warnings\n",
      "  warnings.warn(\n",
      "C:\\Users\\jooch\\anaconda3\\Lib\\site-packages\\urllib3\\connectionpool.py:1097: InsecureRequestWarning: Unverified HTTPS request is being made to host 'api.odcloud.kr'. Adding certificate verification is strongly advised. See: https://urllib3.readthedocs.io/en/latest/advanced-usage.html#tls-warnings\n",
      "  warnings.warn(\n",
      "C:\\Users\\jooch\\anaconda3\\Lib\\site-packages\\urllib3\\connectionpool.py:1097: InsecureRequestWarning: Unverified HTTPS request is being made to host 'api.odcloud.kr'. Adding certificate verification is strongly advised. See: https://urllib3.readthedocs.io/en/latest/advanced-usage.html#tls-warnings\n",
      "  warnings.warn(\n",
      "C:\\Users\\jooch\\anaconda3\\Lib\\site-packages\\urllib3\\connectionpool.py:1097: InsecureRequestWarning: Unverified HTTPS request is being made to host 'api.odcloud.kr'. Adding certificate verification is strongly advised. See: https://urllib3.readthedocs.io/en/latest/advanced-usage.html#tls-warnings\n",
      "  warnings.warn(\n"
     ]
    },
    {
     "name": "stdout",
     "output_type": "stream",
     "text": [
      "\n",
      "✅ 데이터 수집 완료! 총 176021개의 업체 정보가 저장되었습니다.\n",
      "\n",
      "--- 전체 업체 정보 처리 ---\n"
     ]
    }
   ],
   "source": [
    "base_url = 'https://api.odcloud.kr/api/'\n",
    "service_name = '15050921/v1/uddi:3b739b71-cda8-4eba-9730-ba897be8c248'\n",
    "serviceKey = '416a0c4c87da58598c1fde059d56608bca0746c6d66fffb18def03dee40491a6'\n",
    "\n",
    "\n",
    "company_list = []\n",
    "\n",
    "for page_num in range(1, 5):\n",
    "    # 각 페이지에 맞는 요청 파라미터를 설정합니다 (returnType='json').\n",
    "    params = {\n",
    "        'serviceKey': serviceKey,\n",
    "        'page': page_num,\n",
    "        'perPage': 50000, \n",
    "        'returnType': 'json'\n",
    "    }\n",
    "    \n",
    "    try:\n",
    "        response = requests.get(f'{base_url}{service_name}', params=params, verify=False)\n",
    "        data = response.json()\n",
    "        \n",
    "        if 'data' in data and data['data']:\n",
    "            company_list.extend(data['data'])\n",
    "\n",
    "    except requests.exceptions.RequestException as e:\n",
    "        print(f\"{page_num} 페이지 요청 중 오류가 발생했습니다: {e}\")\n",
    "        break\n",
    "\n",
    "print(f\"\\n✅ 데이터 수집 완료! 총 {len(company_list)}개의 업체 정보가 저장되었습니다.\")\n",
    "\n",
    "print(\"\\n--- 전체 업체 정보 처리 ---\")\n",
    "for company in company_list:\n",
    "    representative = company.get('대표자', '정보 없음')\n",
    "    company_name = company.get('업체명', '정보 없음')\n"
   ]
  },
  {
   "cell_type": "code",
   "execution_count": null,
   "id": "a18f1004-c050-4c19-b0e4-7dd90ab47286",
   "metadata": {},
   "outputs": [],
   "source": []
  }
 ],
 "metadata": {
  "kernelspec": {
   "display_name": "Python [conda env:base] *",
   "language": "python",
   "name": "conda-base-py"
  },
  "language_info": {
   "codemirror_mode": {
    "name": "ipython",
    "version": 3
   },
   "file_extension": ".py",
   "mimetype": "text/x-python",
   "name": "python",
   "nbconvert_exporter": "python",
   "pygments_lexer": "ipython3",
   "version": "3.13.5"
  }
 },
 "nbformat": 4,
 "nbformat_minor": 5
}
