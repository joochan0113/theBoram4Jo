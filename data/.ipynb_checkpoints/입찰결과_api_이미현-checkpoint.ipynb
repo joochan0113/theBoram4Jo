{
 "cells": [
  {
   "cell_type": "code",
   "execution_count": 2,
   "id": "3fe73ac7-1590-40e8-8f18-938e5601b733",
   "metadata": {},
   "outputs": [],
   "source": [
    "import requests\n",
    "from urllib.request import urlopen\n",
    "from bs4 import BeautifulSoup\n",
    "import pandas as pd\n",
    "import time"
   ]
  },
  {
   "cell_type": "code",
   "execution_count": 3,
   "id": "4df1f48d-ff2c-48a7-b8ae-95820f49fb80",
   "metadata": {},
   "outputs": [],
   "source": [
    "def crawling_24(page='1', perPage='1000', returntype='json'):\n",
    "    base_url = 'http://api.odcloud.kr/api'\n",
    "    service_url_24 = '/15050917/v1/uddi:d4acec43-e840-42c0-ae27-f6f03c910ca0'\n",
    "    serviceKey = '416a0c4c87da58598c1fde059d56608bca0746c6d66fffb18def03dee40491a6'\n",
    "    params = f'page={page}&perPage={perPage}&serviceKey={serviceKey}&returntype={returntype}'    \n",
    "    url_24 = f'{base_url}{service_url_24}?{params}'\n",
    "    json = requests.get(url_24).text\n",
    "    soup = BeautifulSoup(json)\n",
    "    return soup\n"
   ]
  },
  {
   "cell_type": "code",
   "execution_count": 4,
   "id": "7b59dfe2-beb5-4f72-8219-3c3d8f3436bf",
   "metadata": {},
   "outputs": [
    {
     "name": "stdout",
     "output_type": "stream",
     "text": [
      "\n",
      "총 수집된 데이터 개수: 75\n"
     ]
    }
   ],
   "source": [
    "\n",
    "# 전체 데이터 수집\n",
    "data_24 = []\n",
    "total_pages = 75  # perPage=1000 기준으로 계산 / 데이터 총 개수 74XXX개 / 1000개씩 75번\n",
    "\n",
    "for page_num in range(1, total_pages + 1):\n",
    "    data = crawling_24(page=str(page_num), perPage='1000')\n",
    "    data_24.append(data)\n",
    "    time.sleep(0.3)  \n",
    "\n",
    "print(f\"\\n총 수집된 데이터 개수: {len(data_24)}\")"
   ]
  },
  {
   "cell_type": "code",
   "execution_count": 6,
   "id": "834c8118-8195-4972-831a-4740f0ec05ad",
   "metadata": {},
   "outputs": [
    {
     "data": {
      "text/plain": [
       "75"
      ]
     },
     "execution_count": 6,
     "metadata": {},
     "output_type": "execute_result"
    }
   ],
   "source": [
    "len(data_24)"
   ]
  },
  {
   "cell_type": "code",
   "execution_count": 8,
   "id": "69e8ea3e-0847-456c-b38f-229cefa8a547",
   "metadata": {},
   "outputs": [],
   "source": [
    "# data_24[-1]"
   ]
  },
  {
   "cell_type": "code",
   "execution_count": null,
   "id": "50bba83e-c8cc-4e56-b6e6-ef736742591a",
   "metadata": {},
   "outputs": [],
   "source": []
  }
 ],
 "metadata": {
  "kernelspec": {
   "display_name": "Python [conda env:base] *",
   "language": "python",
   "name": "conda-base-py"
  },
  "language_info": {
   "codemirror_mode": {
    "name": "ipython",
    "version": 3
   },
   "file_extension": ".py",
   "mimetype": "text/x-python",
   "name": "python",
   "nbconvert_exporter": "python",
   "pygments_lexer": "ipython3",
   "version": "3.13.5"
  }
 },
 "nbformat": 4,
 "nbformat_minor": 5
}
